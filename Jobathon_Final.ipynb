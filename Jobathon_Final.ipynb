{
  "nbformat": 4,
  "nbformat_minor": 0,
  "metadata": {
    "colab": {
      "name": "Jobathon Final",
      "provenance": [],
      "collapsed_sections": []
    },
    "kernelspec": {
      "name": "python3",
      "display_name": "Python 3"
    }
  },
  "cells": [
    {
      "cell_type": "code",
      "metadata": {
        "id": "jFazOTmPw8nO",
        "colab": {
          "base_uri": "https://localhost:8080/"
        },
        "outputId": "80b64127-16cf-42a5-9922-df1ce04192eb"
      },
      "source": [
        "from google.colab import drive\n",
        "drive.mount('/content/gdrive')"
      ],
      "execution_count": 1,
      "outputs": [
        {
          "output_type": "stream",
          "text": [
            "Mounted at /content/gdrive\n"
          ],
          "name": "stdout"
        }
      ]
    },
    {
      "cell_type": "code",
      "metadata": {
        "id": "2RZEXi2XyNYJ",
        "colab": {
          "base_uri": "https://localhost:8080/"
        },
        "outputId": "4155ca6f-6127-45d3-86bd-eb9d566da648"
      },
      "source": [
        "%cd /content/gdrive/My Drive/Jobathon"
      ],
      "execution_count": 2,
      "outputs": [
        {
          "output_type": "stream",
          "text": [
            "/content/gdrive/My Drive/Jobathon\n"
          ],
          "name": "stdout"
        }
      ]
    },
    {
      "cell_type": "code",
      "metadata": {
        "colab": {
          "base_uri": "https://localhost:8080/"
        },
        "id": "Pghc839odt8g",
        "outputId": "180aad7e-f7e0-4d2f-c854-b5b1f3bf2bdf"
      },
      "source": [
        "pip install catboost"
      ],
      "execution_count": 14,
      "outputs": [
        {
          "output_type": "stream",
          "text": [
            "Collecting catboost\n",
            "\u001b[?25l  Downloading https://files.pythonhosted.org/packages/96/3b/bb419654adcf7efff42ed8a3f84e50c8f236424b7ed1cc8ccd290852e003/catboost-0.24.4-cp37-none-manylinux1_x86_64.whl (65.7MB)\n",
            "\u001b[K     |████████████████████████████████| 65.7MB 58kB/s \n",
            "\u001b[?25hRequirement already satisfied: graphviz in /usr/local/lib/python3.7/dist-packages (from catboost) (0.10.1)\n",
            "Requirement already satisfied: numpy>=1.16.0 in /usr/local/lib/python3.7/dist-packages (from catboost) (1.19.5)\n",
            "Requirement already satisfied: pandas>=0.24.0 in /usr/local/lib/python3.7/dist-packages (from catboost) (1.1.5)\n",
            "Requirement already satisfied: six in /usr/local/lib/python3.7/dist-packages (from catboost) (1.15.0)\n",
            "Requirement already satisfied: scipy in /usr/local/lib/python3.7/dist-packages (from catboost) (1.4.1)\n",
            "Requirement already satisfied: plotly in /usr/local/lib/python3.7/dist-packages (from catboost) (4.4.1)\n",
            "Requirement already satisfied: matplotlib in /usr/local/lib/python3.7/dist-packages (from catboost) (3.2.2)\n",
            "Requirement already satisfied: pytz>=2017.2 in /usr/local/lib/python3.7/dist-packages (from pandas>=0.24.0->catboost) (2018.9)\n",
            "Requirement already satisfied: python-dateutil>=2.7.3 in /usr/local/lib/python3.7/dist-packages (from pandas>=0.24.0->catboost) (2.8.1)\n",
            "Requirement already satisfied: retrying>=1.3.3 in /usr/local/lib/python3.7/dist-packages (from plotly->catboost) (1.3.3)\n",
            "Requirement already satisfied: pyparsing!=2.0.4,!=2.1.2,!=2.1.6,>=2.0.1 in /usr/local/lib/python3.7/dist-packages (from matplotlib->catboost) (2.4.7)\n",
            "Requirement already satisfied: cycler>=0.10 in /usr/local/lib/python3.7/dist-packages (from matplotlib->catboost) (0.10.0)\n",
            "Requirement already satisfied: kiwisolver>=1.0.1 in /usr/local/lib/python3.7/dist-packages (from matplotlib->catboost) (1.3.1)\n",
            "Installing collected packages: catboost\n",
            "Successfully installed catboost-0.24.4\n"
          ],
          "name": "stdout"
        }
      ]
    },
    {
      "cell_type": "code",
      "metadata": {
        "id": "hiW1Y9jYirWm"
      },
      "source": [
        "import pandas as pd\n",
        "import numpy as np\n",
        "import seaborn as sns\n",
        "import os\n",
        "from sklearn.metrics import roc_auc_score\n",
        "from sklearn.linear_model import LogisticRegression\n",
        "from sklearn.tree import DecisionTreeClassifier\n",
        "from sklearn.model_selection import StratifiedKFold, KFold\n",
        "from sklearn.ensemble import RandomForestClassifier, AdaBoostClassifier , GradientBoostingClassifier , ExtraTreesClassifier\n",
        "from lightgbm import LGBMClassifier\n",
        "from xgboost import XGBClassifier\n",
        "import matplotlib.pyplot as plt\n",
        "from sklearn.preprocessing import LabelEncoder\n",
        "import warnings \n",
        "from sklearn.neighbors import KNeighborsClassifier\n",
        "from catboost import CatBoostClassifier\n",
        "from scipy.stats import mode\n",
        "from sklearn.impute import SimpleImputer\n",
        "warnings.filterwarnings('ignore')"
      ],
      "execution_count": 15,
      "outputs": []
    },
    {
      "cell_type": "code",
      "metadata": {
        "id": "3-XP1U6OiyXL"
      },
      "source": [
        "train_data = pd.read_csv('train.csv')"
      ],
      "execution_count": 80,
      "outputs": []
    },
    {
      "cell_type": "code",
      "metadata": {
        "colab": {
          "base_uri": "https://localhost:8080/"
        },
        "id": "nxxwZ4xNgAx5",
        "outputId": "bcd56048-f3e8-4357-9d98-f79491d29f1a"
      },
      "source": [
        "train_data.isna().sum()"
      ],
      "execution_count": 81,
      "outputs": [
        {
          "output_type": "execute_result",
          "data": {
            "text/plain": [
              "ID                             0\n",
              "City_Code                      0\n",
              "Region_Code                    0\n",
              "Accomodation_Type              0\n",
              "Reco_Insurance_Type            0\n",
              "Upper_Age                      0\n",
              "Lower_Age                      0\n",
              "Is_Spouse                      0\n",
              "Health Indicator           11691\n",
              "Holding_Policy_Duration    20251\n",
              "Holding_Policy_Type        20251\n",
              "Reco_Policy_Cat                0\n",
              "Reco_Policy_Premium            0\n",
              "Response                       0\n",
              "dtype: int64"
            ]
          },
          "metadata": {
            "tags": []
          },
          "execution_count": 81
        }
      ]
    },
    {
      "cell_type": "code",
      "metadata": {
        "id": "MyulmEMskEQ8"
      },
      "source": [
        "test_data = pd.read_csv('test.csv')"
      ],
      "execution_count": 82,
      "outputs": []
    },
    {
      "cell_type": "code",
      "metadata": {
        "id": "-hBM08xlcRj4"
      },
      "source": [
        "train_data.fillna('unknown',inplace=True)\n",
        "test_data.fillna('unknown',inplace=True)"
      ],
      "execution_count": 83,
      "outputs": []
    },
    {
      "cell_type": "code",
      "metadata": {
        "id": "YOTvNhe_cRrB"
      },
      "source": [
        "cols = ['Health Indicator','Holding_Policy_Duration','Holding_Policy_Type',\n",
        "        'Accomodation_Type','Reco_Insurance_Type','Is_Spouse']"
      ],
      "execution_count": 84,
      "outputs": []
    },
    {
      "cell_type": "code",
      "metadata": {
        "id": "BpBdrbf2cRvh"
      },
      "source": [
        "train_data['Region_Code_encoded'] , bins = pd.cut(train_data.Region_Code,bins=20,labels=[f'bin_{i}' for i in range(20) ],retbins=True)\n",
        "test_data['Region_Code_encoded'] = pd.cut(test_data.Region_Code,bins=bins,labels=[f'bin_{i}' for i in range(20) ],retbins=False)"
      ],
      "execution_count": 85,
      "outputs": []
    },
    {
      "cell_type": "code",
      "metadata": {
        "colab": {
          "base_uri": "https://localhost:8080/",
          "height": 241
        },
        "id": "xnOiUJdacR11",
        "outputId": "11a36dc8-e4b8-4402-e288-3768744bea3b"
      },
      "source": [
        "train_data.head()"
      ],
      "execution_count": 86,
      "outputs": [
        {
          "output_type": "execute_result",
          "data": {
            "text/html": [
              "<div>\n",
              "<style scoped>\n",
              "    .dataframe tbody tr th:only-of-type {\n",
              "        vertical-align: middle;\n",
              "    }\n",
              "\n",
              "    .dataframe tbody tr th {\n",
              "        vertical-align: top;\n",
              "    }\n",
              "\n",
              "    .dataframe thead th {\n",
              "        text-align: right;\n",
              "    }\n",
              "</style>\n",
              "<table border=\"1\" class=\"dataframe\">\n",
              "  <thead>\n",
              "    <tr style=\"text-align: right;\">\n",
              "      <th></th>\n",
              "      <th>ID</th>\n",
              "      <th>City_Code</th>\n",
              "      <th>Region_Code</th>\n",
              "      <th>Accomodation_Type</th>\n",
              "      <th>Reco_Insurance_Type</th>\n",
              "      <th>Upper_Age</th>\n",
              "      <th>Lower_Age</th>\n",
              "      <th>Is_Spouse</th>\n",
              "      <th>Health Indicator</th>\n",
              "      <th>Holding_Policy_Duration</th>\n",
              "      <th>Holding_Policy_Type</th>\n",
              "      <th>Reco_Policy_Cat</th>\n",
              "      <th>Reco_Policy_Premium</th>\n",
              "      <th>Response</th>\n",
              "      <th>Region_Code_encoded</th>\n",
              "    </tr>\n",
              "  </thead>\n",
              "  <tbody>\n",
              "    <tr>\n",
              "      <th>0</th>\n",
              "      <td>1</td>\n",
              "      <td>C3</td>\n",
              "      <td>3213</td>\n",
              "      <td>Rented</td>\n",
              "      <td>Individual</td>\n",
              "      <td>36</td>\n",
              "      <td>36</td>\n",
              "      <td>No</td>\n",
              "      <td>X1</td>\n",
              "      <td>14+</td>\n",
              "      <td>3</td>\n",
              "      <td>22</td>\n",
              "      <td>11628.0</td>\n",
              "      <td>0</td>\n",
              "      <td>bin_10</td>\n",
              "    </tr>\n",
              "    <tr>\n",
              "      <th>1</th>\n",
              "      <td>2</td>\n",
              "      <td>C5</td>\n",
              "      <td>1117</td>\n",
              "      <td>Owned</td>\n",
              "      <td>Joint</td>\n",
              "      <td>75</td>\n",
              "      <td>22</td>\n",
              "      <td>No</td>\n",
              "      <td>X2</td>\n",
              "      <td>unknown</td>\n",
              "      <td>unknown</td>\n",
              "      <td>22</td>\n",
              "      <td>30510.0</td>\n",
              "      <td>0</td>\n",
              "      <td>bin_3</td>\n",
              "    </tr>\n",
              "    <tr>\n",
              "      <th>2</th>\n",
              "      <td>3</td>\n",
              "      <td>C5</td>\n",
              "      <td>3732</td>\n",
              "      <td>Owned</td>\n",
              "      <td>Individual</td>\n",
              "      <td>32</td>\n",
              "      <td>32</td>\n",
              "      <td>No</td>\n",
              "      <td>unknown</td>\n",
              "      <td>1.0</td>\n",
              "      <td>1</td>\n",
              "      <td>19</td>\n",
              "      <td>7450.0</td>\n",
              "      <td>1</td>\n",
              "      <td>bin_12</td>\n",
              "    </tr>\n",
              "    <tr>\n",
              "      <th>3</th>\n",
              "      <td>4</td>\n",
              "      <td>C24</td>\n",
              "      <td>4378</td>\n",
              "      <td>Owned</td>\n",
              "      <td>Joint</td>\n",
              "      <td>52</td>\n",
              "      <td>48</td>\n",
              "      <td>No</td>\n",
              "      <td>X1</td>\n",
              "      <td>14+</td>\n",
              "      <td>3</td>\n",
              "      <td>19</td>\n",
              "      <td>17780.0</td>\n",
              "      <td>0</td>\n",
              "      <td>bin_14</td>\n",
              "    </tr>\n",
              "    <tr>\n",
              "      <th>4</th>\n",
              "      <td>5</td>\n",
              "      <td>C8</td>\n",
              "      <td>2190</td>\n",
              "      <td>Rented</td>\n",
              "      <td>Individual</td>\n",
              "      <td>44</td>\n",
              "      <td>44</td>\n",
              "      <td>No</td>\n",
              "      <td>X2</td>\n",
              "      <td>3.0</td>\n",
              "      <td>1</td>\n",
              "      <td>16</td>\n",
              "      <td>10404.0</td>\n",
              "      <td>0</td>\n",
              "      <td>bin_7</td>\n",
              "    </tr>\n",
              "  </tbody>\n",
              "</table>\n",
              "</div>"
            ],
            "text/plain": [
              "   ID City_Code  Region_Code  ... Reco_Policy_Premium Response  Region_Code_encoded\n",
              "0   1        C3         3213  ...             11628.0        0               bin_10\n",
              "1   2        C5         1117  ...             30510.0        0                bin_3\n",
              "2   3        C5         3732  ...              7450.0        1               bin_12\n",
              "3   4       C24         4378  ...             17780.0        0               bin_14\n",
              "4   5        C8         2190  ...             10404.0        0                bin_7\n",
              "\n",
              "[5 rows x 15 columns]"
            ]
          },
          "metadata": {
            "tags": []
          },
          "execution_count": 86
        }
      ]
    },
    {
      "cell_type": "code",
      "metadata": {
        "id": "ya4w1BwacR8K"
      },
      "source": [
        "for col in cols + ['City_Code','Region_Code_encoded']:\n",
        "  encoder = LabelEncoder()\n",
        "  train_data[col] = encoder.fit_transform(train_data[col].astype(str))\n",
        "  test_data[col] =  encoder.transform(test_data[col].astype(str))\n",
        "  try :\n",
        "    m = encoder.transform([\"unknown\"])\n",
        "  except :\n",
        "    m = None\n",
        "  \n",
        "  if m is not None:\n",
        "    train_data[col] = train_data[col].apply(lambda x: np.NaN if x == m[0] else x)\n",
        "    test_data[col] = test_data[col].apply(lambda x: np.NaN if x == m[0] else x)"
      ],
      "execution_count": 87,
      "outputs": []
    },
    {
      "cell_type": "code",
      "metadata": {
        "colab": {
          "base_uri": "https://localhost:8080/",
          "height": 241
        },
        "id": "5tSxvpahcSC8",
        "outputId": "0b7ab37f-b850-40d2-d9de-ef61e0ef6db2"
      },
      "source": [
        "train_data.head()"
      ],
      "execution_count": 88,
      "outputs": [
        {
          "output_type": "execute_result",
          "data": {
            "text/html": [
              "<div>\n",
              "<style scoped>\n",
              "    .dataframe tbody tr th:only-of-type {\n",
              "        vertical-align: middle;\n",
              "    }\n",
              "\n",
              "    .dataframe tbody tr th {\n",
              "        vertical-align: top;\n",
              "    }\n",
              "\n",
              "    .dataframe thead th {\n",
              "        text-align: right;\n",
              "    }\n",
              "</style>\n",
              "<table border=\"1\" class=\"dataframe\">\n",
              "  <thead>\n",
              "    <tr style=\"text-align: right;\">\n",
              "      <th></th>\n",
              "      <th>ID</th>\n",
              "      <th>City_Code</th>\n",
              "      <th>Region_Code</th>\n",
              "      <th>Accomodation_Type</th>\n",
              "      <th>Reco_Insurance_Type</th>\n",
              "      <th>Upper_Age</th>\n",
              "      <th>Lower_Age</th>\n",
              "      <th>Is_Spouse</th>\n",
              "      <th>Health Indicator</th>\n",
              "      <th>Holding_Policy_Duration</th>\n",
              "      <th>Holding_Policy_Type</th>\n",
              "      <th>Reco_Policy_Cat</th>\n",
              "      <th>Reco_Policy_Premium</th>\n",
              "      <th>Response</th>\n",
              "      <th>Region_Code_encoded</th>\n",
              "    </tr>\n",
              "  </thead>\n",
              "  <tbody>\n",
              "    <tr>\n",
              "      <th>0</th>\n",
              "      <td>1</td>\n",
              "      <td>22</td>\n",
              "      <td>3213</td>\n",
              "      <td>1</td>\n",
              "      <td>0</td>\n",
              "      <td>36</td>\n",
              "      <td>36</td>\n",
              "      <td>0</td>\n",
              "      <td>0.0</td>\n",
              "      <td>5.0</td>\n",
              "      <td>2.0</td>\n",
              "      <td>22</td>\n",
              "      <td>11628.0</td>\n",
              "      <td>0</td>\n",
              "      <td>2</td>\n",
              "    </tr>\n",
              "    <tr>\n",
              "      <th>1</th>\n",
              "      <td>2</td>\n",
              "      <td>31</td>\n",
              "      <td>1117</td>\n",
              "      <td>0</td>\n",
              "      <td>1</td>\n",
              "      <td>75</td>\n",
              "      <td>22</td>\n",
              "      <td>0</td>\n",
              "      <td>1.0</td>\n",
              "      <td>NaN</td>\n",
              "      <td>NaN</td>\n",
              "      <td>22</td>\n",
              "      <td>30510.0</td>\n",
              "      <td>0</td>\n",
              "      <td>13</td>\n",
              "    </tr>\n",
              "    <tr>\n",
              "      <th>2</th>\n",
              "      <td>3</td>\n",
              "      <td>31</td>\n",
              "      <td>3732</td>\n",
              "      <td>0</td>\n",
              "      <td>0</td>\n",
              "      <td>32</td>\n",
              "      <td>32</td>\n",
              "      <td>0</td>\n",
              "      <td>NaN</td>\n",
              "      <td>0.0</td>\n",
              "      <td>0.0</td>\n",
              "      <td>19</td>\n",
              "      <td>7450.0</td>\n",
              "      <td>1</td>\n",
              "      <td>4</td>\n",
              "    </tr>\n",
              "    <tr>\n",
              "      <th>3</th>\n",
              "      <td>4</td>\n",
              "      <td>16</td>\n",
              "      <td>4378</td>\n",
              "      <td>0</td>\n",
              "      <td>1</td>\n",
              "      <td>52</td>\n",
              "      <td>48</td>\n",
              "      <td>0</td>\n",
              "      <td>0.0</td>\n",
              "      <td>5.0</td>\n",
              "      <td>2.0</td>\n",
              "      <td>19</td>\n",
              "      <td>17780.0</td>\n",
              "      <td>0</td>\n",
              "      <td>6</td>\n",
              "    </tr>\n",
              "    <tr>\n",
              "      <th>4</th>\n",
              "      <td>5</td>\n",
              "      <td>34</td>\n",
              "      <td>2190</td>\n",
              "      <td>1</td>\n",
              "      <td>0</td>\n",
              "      <td>44</td>\n",
              "      <td>44</td>\n",
              "      <td>0</td>\n",
              "      <td>1.0</td>\n",
              "      <td>8.0</td>\n",
              "      <td>0.0</td>\n",
              "      <td>16</td>\n",
              "      <td>10404.0</td>\n",
              "      <td>0</td>\n",
              "      <td>17</td>\n",
              "    </tr>\n",
              "  </tbody>\n",
              "</table>\n",
              "</div>"
            ],
            "text/plain": [
              "   ID  City_Code  ...  Response  Region_Code_encoded\n",
              "0   1         22  ...         0                    2\n",
              "1   2         31  ...         0                   13\n",
              "2   3         31  ...         1                    4\n",
              "3   4         16  ...         0                    6\n",
              "4   5         34  ...         0                   17\n",
              "\n",
              "[5 rows x 15 columns]"
            ]
          },
          "metadata": {
            "tags": []
          },
          "execution_count": 88
        }
      ]
    },
    {
      "cell_type": "code",
      "metadata": {
        "id": "yZ8O7-_mcSYd"
      },
      "source": [
        "cols = ['Health Indicator','Holding_Policy_Duration','Holding_Policy_Type']\n",
        "\n",
        "merge = pd.concat([train_data,test_data])"
      ],
      "execution_count": 89,
      "outputs": []
    },
    {
      "cell_type": "code",
      "metadata": {
        "id": "UoH2OJTWcSm3"
      },
      "source": [
        "for col in cols:\n",
        "  X = merge[~merge[col].isna()].drop(['ID',*cols],axis=1)\n",
        "  Y = merge[~merge[col].isna()][col]\n",
        "  \n",
        "  model = LGBMClassifier()\n",
        "  model.fit(X.drop('Response',axis=1),Y) \n",
        "  \n",
        "  merge['corrected'] = model.predict(merge.drop(['ID','Response',*cols],axis=1))\n",
        "\n",
        "  merge[col] = merge.apply(lambda x: x['corrected'] if np.isnan(x[col]) else x[col],axis=1)\n",
        "\n",
        "  merge.drop(['corrected'],axis=1,inplace=True)"
      ],
      "execution_count": 90,
      "outputs": []
    },
    {
      "cell_type": "code",
      "metadata": {
        "colab": {
          "base_uri": "https://localhost:8080/",
          "height": 224
        },
        "id": "fJY5HS97cSuS",
        "outputId": "c3638d14-8198-41a1-bdde-e8399fe4f8a4"
      },
      "source": [
        "X.head()"
      ],
      "execution_count": 91,
      "outputs": [
        {
          "output_type": "execute_result",
          "data": {
            "text/html": [
              "<div>\n",
              "<style scoped>\n",
              "    .dataframe tbody tr th:only-of-type {\n",
              "        vertical-align: middle;\n",
              "    }\n",
              "\n",
              "    .dataframe tbody tr th {\n",
              "        vertical-align: top;\n",
              "    }\n",
              "\n",
              "    .dataframe thead th {\n",
              "        text-align: right;\n",
              "    }\n",
              "</style>\n",
              "<table border=\"1\" class=\"dataframe\">\n",
              "  <thead>\n",
              "    <tr style=\"text-align: right;\">\n",
              "      <th></th>\n",
              "      <th>City_Code</th>\n",
              "      <th>Region_Code</th>\n",
              "      <th>Accomodation_Type</th>\n",
              "      <th>Reco_Insurance_Type</th>\n",
              "      <th>Upper_Age</th>\n",
              "      <th>Lower_Age</th>\n",
              "      <th>Is_Spouse</th>\n",
              "      <th>Reco_Policy_Cat</th>\n",
              "      <th>Reco_Policy_Premium</th>\n",
              "      <th>Response</th>\n",
              "      <th>Region_Code_encoded</th>\n",
              "    </tr>\n",
              "  </thead>\n",
              "  <tbody>\n",
              "    <tr>\n",
              "      <th>0</th>\n",
              "      <td>22</td>\n",
              "      <td>3213</td>\n",
              "      <td>1</td>\n",
              "      <td>0</td>\n",
              "      <td>36</td>\n",
              "      <td>36</td>\n",
              "      <td>0</td>\n",
              "      <td>22</td>\n",
              "      <td>11628.0</td>\n",
              "      <td>0.0</td>\n",
              "      <td>2</td>\n",
              "    </tr>\n",
              "    <tr>\n",
              "      <th>2</th>\n",
              "      <td>31</td>\n",
              "      <td>3732</td>\n",
              "      <td>0</td>\n",
              "      <td>0</td>\n",
              "      <td>32</td>\n",
              "      <td>32</td>\n",
              "      <td>0</td>\n",
              "      <td>19</td>\n",
              "      <td>7450.0</td>\n",
              "      <td>1.0</td>\n",
              "      <td>4</td>\n",
              "    </tr>\n",
              "    <tr>\n",
              "      <th>3</th>\n",
              "      <td>16</td>\n",
              "      <td>4378</td>\n",
              "      <td>0</td>\n",
              "      <td>1</td>\n",
              "      <td>52</td>\n",
              "      <td>48</td>\n",
              "      <td>0</td>\n",
              "      <td>19</td>\n",
              "      <td>17780.0</td>\n",
              "      <td>0.0</td>\n",
              "      <td>6</td>\n",
              "    </tr>\n",
              "    <tr>\n",
              "      <th>4</th>\n",
              "      <td>34</td>\n",
              "      <td>2190</td>\n",
              "      <td>1</td>\n",
              "      <td>0</td>\n",
              "      <td>44</td>\n",
              "      <td>44</td>\n",
              "      <td>0</td>\n",
              "      <td>16</td>\n",
              "      <td>10404.0</td>\n",
              "      <td>0.0</td>\n",
              "      <td>17</td>\n",
              "    </tr>\n",
              "    <tr>\n",
              "      <th>5</th>\n",
              "      <td>35</td>\n",
              "      <td>1785</td>\n",
              "      <td>1</td>\n",
              "      <td>0</td>\n",
              "      <td>52</td>\n",
              "      <td>52</td>\n",
              "      <td>0</td>\n",
              "      <td>22</td>\n",
              "      <td>15264.0</td>\n",
              "      <td>1.0</td>\n",
              "      <td>15</td>\n",
              "    </tr>\n",
              "  </tbody>\n",
              "</table>\n",
              "</div>"
            ],
            "text/plain": [
              "   City_Code  Region_Code  ...  Response  Region_Code_encoded\n",
              "0         22         3213  ...       0.0                    2\n",
              "2         31         3732  ...       1.0                    4\n",
              "3         16         4378  ...       0.0                    6\n",
              "4         34         2190  ...       0.0                   17\n",
              "5         35         1785  ...       1.0                   15\n",
              "\n",
              "[5 rows x 11 columns]"
            ]
          },
          "metadata": {
            "tags": []
          },
          "execution_count": 91
        }
      ]
    },
    {
      "cell_type": "code",
      "metadata": {
        "id": "4Uvwobb0cS2Z"
      },
      "source": [
        "merge['comb_1'] = merge.City_Code.astype(str) + merge.Region_Code.astype(str) "
      ],
      "execution_count": 92,
      "outputs": []
    },
    {
      "cell_type": "code",
      "metadata": {
        "colab": {
          "base_uri": "https://localhost:8080/",
          "height": 241
        },
        "id": "sFKA_GKZcS-v",
        "outputId": "33d6411c-bdbd-4bcd-d539-8651f81334d8"
      },
      "source": [
        "merge.head()"
      ],
      "execution_count": 93,
      "outputs": [
        {
          "output_type": "execute_result",
          "data": {
            "text/html": [
              "<div>\n",
              "<style scoped>\n",
              "    .dataframe tbody tr th:only-of-type {\n",
              "        vertical-align: middle;\n",
              "    }\n",
              "\n",
              "    .dataframe tbody tr th {\n",
              "        vertical-align: top;\n",
              "    }\n",
              "\n",
              "    .dataframe thead th {\n",
              "        text-align: right;\n",
              "    }\n",
              "</style>\n",
              "<table border=\"1\" class=\"dataframe\">\n",
              "  <thead>\n",
              "    <tr style=\"text-align: right;\">\n",
              "      <th></th>\n",
              "      <th>ID</th>\n",
              "      <th>City_Code</th>\n",
              "      <th>Region_Code</th>\n",
              "      <th>Accomodation_Type</th>\n",
              "      <th>Reco_Insurance_Type</th>\n",
              "      <th>Upper_Age</th>\n",
              "      <th>Lower_Age</th>\n",
              "      <th>Is_Spouse</th>\n",
              "      <th>Health Indicator</th>\n",
              "      <th>Holding_Policy_Duration</th>\n",
              "      <th>Holding_Policy_Type</th>\n",
              "      <th>Reco_Policy_Cat</th>\n",
              "      <th>Reco_Policy_Premium</th>\n",
              "      <th>Response</th>\n",
              "      <th>Region_Code_encoded</th>\n",
              "      <th>comb_1</th>\n",
              "    </tr>\n",
              "  </thead>\n",
              "  <tbody>\n",
              "    <tr>\n",
              "      <th>0</th>\n",
              "      <td>1</td>\n",
              "      <td>22</td>\n",
              "      <td>3213</td>\n",
              "      <td>1</td>\n",
              "      <td>0</td>\n",
              "      <td>36</td>\n",
              "      <td>36</td>\n",
              "      <td>0</td>\n",
              "      <td>0.0</td>\n",
              "      <td>5.0</td>\n",
              "      <td>2.0</td>\n",
              "      <td>22</td>\n",
              "      <td>11628.0</td>\n",
              "      <td>0.0</td>\n",
              "      <td>2</td>\n",
              "      <td>223213</td>\n",
              "    </tr>\n",
              "    <tr>\n",
              "      <th>1</th>\n",
              "      <td>2</td>\n",
              "      <td>31</td>\n",
              "      <td>1117</td>\n",
              "      <td>0</td>\n",
              "      <td>1</td>\n",
              "      <td>75</td>\n",
              "      <td>22</td>\n",
              "      <td>0</td>\n",
              "      <td>1.0</td>\n",
              "      <td>5.0</td>\n",
              "      <td>2.0</td>\n",
              "      <td>22</td>\n",
              "      <td>30510.0</td>\n",
              "      <td>0.0</td>\n",
              "      <td>13</td>\n",
              "      <td>311117</td>\n",
              "    </tr>\n",
              "    <tr>\n",
              "      <th>2</th>\n",
              "      <td>3</td>\n",
              "      <td>31</td>\n",
              "      <td>3732</td>\n",
              "      <td>0</td>\n",
              "      <td>0</td>\n",
              "      <td>32</td>\n",
              "      <td>32</td>\n",
              "      <td>0</td>\n",
              "      <td>0.0</td>\n",
              "      <td>0.0</td>\n",
              "      <td>0.0</td>\n",
              "      <td>19</td>\n",
              "      <td>7450.0</td>\n",
              "      <td>1.0</td>\n",
              "      <td>4</td>\n",
              "      <td>313732</td>\n",
              "    </tr>\n",
              "    <tr>\n",
              "      <th>3</th>\n",
              "      <td>4</td>\n",
              "      <td>16</td>\n",
              "      <td>4378</td>\n",
              "      <td>0</td>\n",
              "      <td>1</td>\n",
              "      <td>52</td>\n",
              "      <td>48</td>\n",
              "      <td>0</td>\n",
              "      <td>0.0</td>\n",
              "      <td>5.0</td>\n",
              "      <td>2.0</td>\n",
              "      <td>19</td>\n",
              "      <td>17780.0</td>\n",
              "      <td>0.0</td>\n",
              "      <td>6</td>\n",
              "      <td>164378</td>\n",
              "    </tr>\n",
              "    <tr>\n",
              "      <th>4</th>\n",
              "      <td>5</td>\n",
              "      <td>34</td>\n",
              "      <td>2190</td>\n",
              "      <td>1</td>\n",
              "      <td>0</td>\n",
              "      <td>44</td>\n",
              "      <td>44</td>\n",
              "      <td>0</td>\n",
              "      <td>1.0</td>\n",
              "      <td>8.0</td>\n",
              "      <td>0.0</td>\n",
              "      <td>16</td>\n",
              "      <td>10404.0</td>\n",
              "      <td>0.0</td>\n",
              "      <td>17</td>\n",
              "      <td>342190</td>\n",
              "    </tr>\n",
              "  </tbody>\n",
              "</table>\n",
              "</div>"
            ],
            "text/plain": [
              "   ID  City_Code  Region_Code  ...  Response  Region_Code_encoded  comb_1\n",
              "0   1         22         3213  ...       0.0                    2  223213\n",
              "1   2         31         1117  ...       0.0                   13  311117\n",
              "2   3         31         3732  ...       1.0                    4  313732\n",
              "3   4         16         4378  ...       0.0                    6  164378\n",
              "4   5         34         2190  ...       0.0                   17  342190\n",
              "\n",
              "[5 rows x 16 columns]"
            ]
          },
          "metadata": {
            "tags": []
          },
          "execution_count": 93
        }
      ]
    },
    {
      "cell_type": "code",
      "metadata": {
        "colab": {
          "base_uri": "https://localhost:8080/"
        },
        "id": "60rE1ZdGiFQI",
        "outputId": "a10ddc9b-9bb6-4dad-80cb-2e429f5e70e0"
      },
      "source": [
        "merge['comb_1'].value_counts(normalize = True)"
      ],
      "execution_count": 95,
      "outputs": [
        {
          "output_type": "execute_result",
          "data": {
            "text/plain": [
              "151       0.001926\n",
              "142       0.001541\n",
              "1147      0.001486\n",
              "05        0.001445\n",
              "04        0.001403\n",
              "            ...   \n",
              "315815    0.000014\n",
              "45988     0.000014\n",
              "125531    0.000014\n",
              "315848    0.000014\n",
              "325928    0.000014\n",
              "Name: comb_1, Length: 5530, dtype: float64"
            ]
          },
          "metadata": {
            "tags": []
          },
          "execution_count": 95
        }
      ]
    },
    {
      "cell_type": "code",
      "metadata": {
        "id": "zA9KPcUWcTHj"
      },
      "source": [
        "merge['comb_1'] = merge['comb_1'].map(merge['comb_1'].value_counts(normalize=True))"
      ],
      "execution_count": 96,
      "outputs": []
    },
    {
      "cell_type": "code",
      "metadata": {
        "colab": {
          "base_uri": "https://localhost:8080/",
          "height": 241
        },
        "id": "wCeR3yBCcTP2",
        "outputId": "0ac78a54-0df9-4f1f-c338-6a2d80e4701d"
      },
      "source": [
        "merge.head()"
      ],
      "execution_count": 97,
      "outputs": [
        {
          "output_type": "execute_result",
          "data": {
            "text/html": [
              "<div>\n",
              "<style scoped>\n",
              "    .dataframe tbody tr th:only-of-type {\n",
              "        vertical-align: middle;\n",
              "    }\n",
              "\n",
              "    .dataframe tbody tr th {\n",
              "        vertical-align: top;\n",
              "    }\n",
              "\n",
              "    .dataframe thead th {\n",
              "        text-align: right;\n",
              "    }\n",
              "</style>\n",
              "<table border=\"1\" class=\"dataframe\">\n",
              "  <thead>\n",
              "    <tr style=\"text-align: right;\">\n",
              "      <th></th>\n",
              "      <th>ID</th>\n",
              "      <th>City_Code</th>\n",
              "      <th>Region_Code</th>\n",
              "      <th>Accomodation_Type</th>\n",
              "      <th>Reco_Insurance_Type</th>\n",
              "      <th>Upper_Age</th>\n",
              "      <th>Lower_Age</th>\n",
              "      <th>Is_Spouse</th>\n",
              "      <th>Health Indicator</th>\n",
              "      <th>Holding_Policy_Duration</th>\n",
              "      <th>Holding_Policy_Type</th>\n",
              "      <th>Reco_Policy_Cat</th>\n",
              "      <th>Reco_Policy_Premium</th>\n",
              "      <th>Response</th>\n",
              "      <th>Region_Code_encoded</th>\n",
              "      <th>comb_1</th>\n",
              "    </tr>\n",
              "  </thead>\n",
              "  <tbody>\n",
              "    <tr>\n",
              "      <th>0</th>\n",
              "      <td>1</td>\n",
              "      <td>22</td>\n",
              "      <td>3213</td>\n",
              "      <td>1</td>\n",
              "      <td>0</td>\n",
              "      <td>36</td>\n",
              "      <td>36</td>\n",
              "      <td>0</td>\n",
              "      <td>0.0</td>\n",
              "      <td>5.0</td>\n",
              "      <td>2.0</td>\n",
              "      <td>22</td>\n",
              "      <td>11628.0</td>\n",
              "      <td>0.0</td>\n",
              "      <td>2</td>\n",
              "      <td>0.000138</td>\n",
              "    </tr>\n",
              "    <tr>\n",
              "      <th>1</th>\n",
              "      <td>2</td>\n",
              "      <td>31</td>\n",
              "      <td>1117</td>\n",
              "      <td>0</td>\n",
              "      <td>1</td>\n",
              "      <td>75</td>\n",
              "      <td>22</td>\n",
              "      <td>0</td>\n",
              "      <td>1.0</td>\n",
              "      <td>5.0</td>\n",
              "      <td>2.0</td>\n",
              "      <td>22</td>\n",
              "      <td>30510.0</td>\n",
              "      <td>0.0</td>\n",
              "      <td>13</td>\n",
              "      <td>0.000289</td>\n",
              "    </tr>\n",
              "    <tr>\n",
              "      <th>2</th>\n",
              "      <td>3</td>\n",
              "      <td>31</td>\n",
              "      <td>3732</td>\n",
              "      <td>0</td>\n",
              "      <td>0</td>\n",
              "      <td>32</td>\n",
              "      <td>32</td>\n",
              "      <td>0</td>\n",
              "      <td>0.0</td>\n",
              "      <td>0.0</td>\n",
              "      <td>0.0</td>\n",
              "      <td>19</td>\n",
              "      <td>7450.0</td>\n",
              "      <td>1.0</td>\n",
              "      <td>4</td>\n",
              "      <td>0.000110</td>\n",
              "    </tr>\n",
              "    <tr>\n",
              "      <th>3</th>\n",
              "      <td>4</td>\n",
              "      <td>16</td>\n",
              "      <td>4378</td>\n",
              "      <td>0</td>\n",
              "      <td>1</td>\n",
              "      <td>52</td>\n",
              "      <td>48</td>\n",
              "      <td>0</td>\n",
              "      <td>0.0</td>\n",
              "      <td>5.0</td>\n",
              "      <td>2.0</td>\n",
              "      <td>19</td>\n",
              "      <td>17780.0</td>\n",
              "      <td>0.0</td>\n",
              "      <td>6</td>\n",
              "      <td>0.000069</td>\n",
              "    </tr>\n",
              "    <tr>\n",
              "      <th>4</th>\n",
              "      <td>5</td>\n",
              "      <td>34</td>\n",
              "      <td>2190</td>\n",
              "      <td>1</td>\n",
              "      <td>0</td>\n",
              "      <td>44</td>\n",
              "      <td>44</td>\n",
              "      <td>0</td>\n",
              "      <td>1.0</td>\n",
              "      <td>8.0</td>\n",
              "      <td>0.0</td>\n",
              "      <td>16</td>\n",
              "      <td>10404.0</td>\n",
              "      <td>0.0</td>\n",
              "      <td>17</td>\n",
              "      <td>0.000193</td>\n",
              "    </tr>\n",
              "  </tbody>\n",
              "</table>\n",
              "</div>"
            ],
            "text/plain": [
              "   ID  City_Code  Region_Code  ...  Response  Region_Code_encoded    comb_1\n",
              "0   1         22         3213  ...       0.0                    2  0.000138\n",
              "1   2         31         1117  ...       0.0                   13  0.000289\n",
              "2   3         31         3732  ...       1.0                    4  0.000110\n",
              "3   4         16         4378  ...       0.0                    6  0.000069\n",
              "4   5         34         2190  ...       0.0                   17  0.000193\n",
              "\n",
              "[5 rows x 16 columns]"
            ]
          },
          "metadata": {
            "tags": []
          },
          "execution_count": 97
        }
      ]
    },
    {
      "cell_type": "code",
      "metadata": {
        "id": "Px891fRscTWp"
      },
      "source": [
        "m = merge.groupby('Region_Code')['Reco_Policy_Premium'].agg(['mean','max','min']).reset_index()"
      ],
      "execution_count": 98,
      "outputs": []
    },
    {
      "cell_type": "code",
      "metadata": {
        "colab": {
          "base_uri": "https://localhost:8080/",
          "height": 204
        },
        "id": "LMZ5oghdcTeE",
        "outputId": "f2ff712d-51f8-4f3e-92ea-f75008a69167"
      },
      "source": [
        "m.head()"
      ],
      "execution_count": 99,
      "outputs": [
        {
          "output_type": "execute_result",
          "data": {
            "text/html": [
              "<div>\n",
              "<style scoped>\n",
              "    .dataframe tbody tr th:only-of-type {\n",
              "        vertical-align: middle;\n",
              "    }\n",
              "\n",
              "    .dataframe tbody tr th {\n",
              "        vertical-align: top;\n",
              "    }\n",
              "\n",
              "    .dataframe thead th {\n",
              "        text-align: right;\n",
              "    }\n",
              "</style>\n",
              "<table border=\"1\" class=\"dataframe\">\n",
              "  <thead>\n",
              "    <tr style=\"text-align: right;\">\n",
              "      <th></th>\n",
              "      <th>Region_Code</th>\n",
              "      <th>mean</th>\n",
              "      <th>max</th>\n",
              "      <th>min</th>\n",
              "    </tr>\n",
              "  </thead>\n",
              "  <tbody>\n",
              "    <tr>\n",
              "      <th>0</th>\n",
              "      <td>1</td>\n",
              "      <td>12876.421429</td>\n",
              "      <td>33587.2</td>\n",
              "      <td>3642.0</td>\n",
              "    </tr>\n",
              "    <tr>\n",
              "      <th>1</th>\n",
              "      <td>2</td>\n",
              "      <td>13380.501786</td>\n",
              "      <td>34752.0</td>\n",
              "      <td>3456.0</td>\n",
              "    </tr>\n",
              "    <tr>\n",
              "      <th>2</th>\n",
              "      <td>4</td>\n",
              "      <td>20943.890196</td>\n",
              "      <td>39276.8</td>\n",
              "      <td>5128.0</td>\n",
              "    </tr>\n",
              "    <tr>\n",
              "      <th>3</th>\n",
              "      <td>5</td>\n",
              "      <td>18476.900952</td>\n",
              "      <td>38532.0</td>\n",
              "      <td>5152.0</td>\n",
              "    </tr>\n",
              "    <tr>\n",
              "      <th>4</th>\n",
              "      <td>6</td>\n",
              "      <td>15065.941176</td>\n",
              "      <td>36774.4</td>\n",
              "      <td>4792.0</td>\n",
              "    </tr>\n",
              "  </tbody>\n",
              "</table>\n",
              "</div>"
            ],
            "text/plain": [
              "   Region_Code          mean      max     min\n",
              "0            1  12876.421429  33587.2  3642.0\n",
              "1            2  13380.501786  34752.0  3456.0\n",
              "2            4  20943.890196  39276.8  5128.0\n",
              "3            5  18476.900952  38532.0  5152.0\n",
              "4            6  15065.941176  36774.4  4792.0"
            ]
          },
          "metadata": {
            "tags": []
          },
          "execution_count": 99
        }
      ]
    },
    {
      "cell_type": "code",
      "metadata": {
        "id": "58CJ94-QcTlm"
      },
      "source": [
        "m.columns = ['Region_Code'] + [f'Region_Code_Reco_Policy_Premium_{i}' for i in m.columns[1:]]"
      ],
      "execution_count": 100,
      "outputs": []
    },
    {
      "cell_type": "code",
      "metadata": {
        "colab": {
          "base_uri": "https://localhost:8080/",
          "height": 204
        },
        "id": "cP9OqiDCcTtM",
        "outputId": "7227986f-6ddb-40c6-faed-71fbc0c59228"
      },
      "source": [
        "m.head()"
      ],
      "execution_count": 101,
      "outputs": [
        {
          "output_type": "execute_result",
          "data": {
            "text/html": [
              "<div>\n",
              "<style scoped>\n",
              "    .dataframe tbody tr th:only-of-type {\n",
              "        vertical-align: middle;\n",
              "    }\n",
              "\n",
              "    .dataframe tbody tr th {\n",
              "        vertical-align: top;\n",
              "    }\n",
              "\n",
              "    .dataframe thead th {\n",
              "        text-align: right;\n",
              "    }\n",
              "</style>\n",
              "<table border=\"1\" class=\"dataframe\">\n",
              "  <thead>\n",
              "    <tr style=\"text-align: right;\">\n",
              "      <th></th>\n",
              "      <th>Region_Code</th>\n",
              "      <th>Region_Code_Reco_Policy_Premium_mean</th>\n",
              "      <th>Region_Code_Reco_Policy_Premium_max</th>\n",
              "      <th>Region_Code_Reco_Policy_Premium_min</th>\n",
              "    </tr>\n",
              "  </thead>\n",
              "  <tbody>\n",
              "    <tr>\n",
              "      <th>0</th>\n",
              "      <td>1</td>\n",
              "      <td>12876.421429</td>\n",
              "      <td>33587.2</td>\n",
              "      <td>3642.0</td>\n",
              "    </tr>\n",
              "    <tr>\n",
              "      <th>1</th>\n",
              "      <td>2</td>\n",
              "      <td>13380.501786</td>\n",
              "      <td>34752.0</td>\n",
              "      <td>3456.0</td>\n",
              "    </tr>\n",
              "    <tr>\n",
              "      <th>2</th>\n",
              "      <td>4</td>\n",
              "      <td>20943.890196</td>\n",
              "      <td>39276.8</td>\n",
              "      <td>5128.0</td>\n",
              "    </tr>\n",
              "    <tr>\n",
              "      <th>3</th>\n",
              "      <td>5</td>\n",
              "      <td>18476.900952</td>\n",
              "      <td>38532.0</td>\n",
              "      <td>5152.0</td>\n",
              "    </tr>\n",
              "    <tr>\n",
              "      <th>4</th>\n",
              "      <td>6</td>\n",
              "      <td>15065.941176</td>\n",
              "      <td>36774.4</td>\n",
              "      <td>4792.0</td>\n",
              "    </tr>\n",
              "  </tbody>\n",
              "</table>\n",
              "</div>"
            ],
            "text/plain": [
              "   Region_Code  ...  Region_Code_Reco_Policy_Premium_min\n",
              "0            1  ...                               3642.0\n",
              "1            2  ...                               3456.0\n",
              "2            4  ...                               5128.0\n",
              "3            5  ...                               5152.0\n",
              "4            6  ...                               4792.0\n",
              "\n",
              "[5 rows x 4 columns]"
            ]
          },
          "metadata": {
            "tags": []
          },
          "execution_count": 101
        }
      ]
    },
    {
      "cell_type": "code",
      "metadata": {
        "id": "cdDA7OP8lfBN"
      },
      "source": [
        "merge = merge.merge(m,on=\"Region_Code\",how=\"left\")"
      ],
      "execution_count": 102,
      "outputs": []
    },
    {
      "cell_type": "code",
      "metadata": {
        "colab": {
          "base_uri": "https://localhost:8080/",
          "height": 241
        },
        "id": "XrYiKnItlfKQ",
        "outputId": "4eb13f2c-4c4c-4e65-9d4a-56ad122713a9"
      },
      "source": [
        "merge.head()"
      ],
      "execution_count": 103,
      "outputs": [
        {
          "output_type": "execute_result",
          "data": {
            "text/html": [
              "<div>\n",
              "<style scoped>\n",
              "    .dataframe tbody tr th:only-of-type {\n",
              "        vertical-align: middle;\n",
              "    }\n",
              "\n",
              "    .dataframe tbody tr th {\n",
              "        vertical-align: top;\n",
              "    }\n",
              "\n",
              "    .dataframe thead th {\n",
              "        text-align: right;\n",
              "    }\n",
              "</style>\n",
              "<table border=\"1\" class=\"dataframe\">\n",
              "  <thead>\n",
              "    <tr style=\"text-align: right;\">\n",
              "      <th></th>\n",
              "      <th>ID</th>\n",
              "      <th>City_Code</th>\n",
              "      <th>Region_Code</th>\n",
              "      <th>Accomodation_Type</th>\n",
              "      <th>Reco_Insurance_Type</th>\n",
              "      <th>Upper_Age</th>\n",
              "      <th>Lower_Age</th>\n",
              "      <th>Is_Spouse</th>\n",
              "      <th>Health Indicator</th>\n",
              "      <th>Holding_Policy_Duration</th>\n",
              "      <th>Holding_Policy_Type</th>\n",
              "      <th>Reco_Policy_Cat</th>\n",
              "      <th>Reco_Policy_Premium</th>\n",
              "      <th>Response</th>\n",
              "      <th>Region_Code_encoded</th>\n",
              "      <th>comb_1</th>\n",
              "      <th>Region_Code_Reco_Policy_Premium_mean</th>\n",
              "      <th>Region_Code_Reco_Policy_Premium_max</th>\n",
              "      <th>Region_Code_Reco_Policy_Premium_min</th>\n",
              "    </tr>\n",
              "  </thead>\n",
              "  <tbody>\n",
              "    <tr>\n",
              "      <th>0</th>\n",
              "      <td>1</td>\n",
              "      <td>22</td>\n",
              "      <td>3213</td>\n",
              "      <td>1</td>\n",
              "      <td>0</td>\n",
              "      <td>36</td>\n",
              "      <td>36</td>\n",
              "      <td>0</td>\n",
              "      <td>0.0</td>\n",
              "      <td>5.0</td>\n",
              "      <td>2.0</td>\n",
              "      <td>22</td>\n",
              "      <td>11628.0</td>\n",
              "      <td>0.0</td>\n",
              "      <td>2</td>\n",
              "      <td>0.000138</td>\n",
              "      <td>12130.080000</td>\n",
              "      <td>27596.8</td>\n",
              "      <td>4002.0</td>\n",
              "    </tr>\n",
              "    <tr>\n",
              "      <th>1</th>\n",
              "      <td>2</td>\n",
              "      <td>31</td>\n",
              "      <td>1117</td>\n",
              "      <td>0</td>\n",
              "      <td>1</td>\n",
              "      <td>75</td>\n",
              "      <td>22</td>\n",
              "      <td>0</td>\n",
              "      <td>1.0</td>\n",
              "      <td>5.0</td>\n",
              "      <td>2.0</td>\n",
              "      <td>22</td>\n",
              "      <td>30510.0</td>\n",
              "      <td>0.0</td>\n",
              "      <td>13</td>\n",
              "      <td>0.000289</td>\n",
              "      <td>16076.342857</td>\n",
              "      <td>39398.4</td>\n",
              "      <td>4074.0</td>\n",
              "    </tr>\n",
              "    <tr>\n",
              "      <th>2</th>\n",
              "      <td>3</td>\n",
              "      <td>31</td>\n",
              "      <td>3732</td>\n",
              "      <td>0</td>\n",
              "      <td>0</td>\n",
              "      <td>32</td>\n",
              "      <td>32</td>\n",
              "      <td>0</td>\n",
              "      <td>0.0</td>\n",
              "      <td>0.0</td>\n",
              "      <td>0.0</td>\n",
              "      <td>19</td>\n",
              "      <td>7450.0</td>\n",
              "      <td>1.0</td>\n",
              "      <td>4</td>\n",
              "      <td>0.000110</td>\n",
              "      <td>11336.000000</td>\n",
              "      <td>19680.0</td>\n",
              "      <td>5344.0</td>\n",
              "    </tr>\n",
              "    <tr>\n",
              "      <th>3</th>\n",
              "      <td>4</td>\n",
              "      <td>16</td>\n",
              "      <td>4378</td>\n",
              "      <td>0</td>\n",
              "      <td>1</td>\n",
              "      <td>52</td>\n",
              "      <td>48</td>\n",
              "      <td>0</td>\n",
              "      <td>0.0</td>\n",
              "      <td>5.0</td>\n",
              "      <td>2.0</td>\n",
              "      <td>19</td>\n",
              "      <td>17780.0</td>\n",
              "      <td>0.0</td>\n",
              "      <td>6</td>\n",
              "      <td>0.000069</td>\n",
              "      <td>14329.200000</td>\n",
              "      <td>17780.0</td>\n",
              "      <td>10962.0</td>\n",
              "    </tr>\n",
              "    <tr>\n",
              "      <th>4</th>\n",
              "      <td>5</td>\n",
              "      <td>34</td>\n",
              "      <td>2190</td>\n",
              "      <td>1</td>\n",
              "      <td>0</td>\n",
              "      <td>44</td>\n",
              "      <td>44</td>\n",
              "      <td>0</td>\n",
              "      <td>1.0</td>\n",
              "      <td>8.0</td>\n",
              "      <td>0.0</td>\n",
              "      <td>16</td>\n",
              "      <td>10404.0</td>\n",
              "      <td>0.0</td>\n",
              "      <td>17</td>\n",
              "      <td>0.000193</td>\n",
              "      <td>16664.157143</td>\n",
              "      <td>22932.0</td>\n",
              "      <td>9328.0</td>\n",
              "    </tr>\n",
              "  </tbody>\n",
              "</table>\n",
              "</div>"
            ],
            "text/plain": [
              "   ID  ...  Region_Code_Reco_Policy_Premium_min\n",
              "0   1  ...                               4002.0\n",
              "1   2  ...                               4074.0\n",
              "2   3  ...                               5344.0\n",
              "3   4  ...                              10962.0\n",
              "4   5  ...                               9328.0\n",
              "\n",
              "[5 rows x 19 columns]"
            ]
          },
          "metadata": {
            "tags": []
          },
          "execution_count": 103
        }
      ]
    },
    {
      "cell_type": "code",
      "metadata": {
        "id": "awvVU-KklfTY"
      },
      "source": [
        "m= merge.groupby('comb_1')['Reco_Policy_Premium'].agg(['min' , 'max' , 'mean']).reset_index()\n",
        "m.columns = ['comb_1'] + [f'comb_1_Reco_Policy_Premium_{i}' for i in m.columns[1:]]\n",
        "merge = merge.merge(m , on = 'comb_1' , how = 'left')"
      ],
      "execution_count": 107,
      "outputs": []
    },
    {
      "cell_type": "code",
      "metadata": {
        "id": "z1kqtD3rlfhb"
      },
      "source": [
        "merge['comb_2'] = merge.City_Code.astype(str) + merge.Reco_Policy_Cat.astype(str)\n",
        "merge['comb_2'] = merge['comb_2'].map(merge['comb_2'].value_counts(normalize = True))"
      ],
      "execution_count": 108,
      "outputs": []
    },
    {
      "cell_type": "code",
      "metadata": {
        "id": "_tLF_udkrnSf"
      },
      "source": [
        "m = merge.groupby('Reco_Policy_Cat')['Reco_Policy_Premium'].agg(['mean' , 'max' , 'min']).reset_index()\n",
        "m.column = ['Reco_Policy_Cat'] + [f'Reco_Policy_Cat_Reco_Policy_Premium_{i}' for i in m.columns[1:]]\n",
        "merge = merge.merge(m, on = 'Reco_Policy_Cat' , how = 'left')"
      ],
      "execution_count": 110,
      "outputs": []
    },
    {
      "cell_type": "code",
      "metadata": {
        "id": "Q8Asz1NXlf77"
      },
      "source": [
        "m = merge.groupby('comb_2')['Reco_Policy_Premium'].agg(['mean','max','min']).reset_index()\n",
        "m.columns = ['comb_2'] + [f'comb_2_Reco_Policy_Premium_{i}' for i in m.columns[1:]]\n",
        "merge = merge.merge(m,on=\"comb_2\",how=\"left\")"
      ],
      "execution_count": 111,
      "outputs": []
    },
    {
      "cell_type": "code",
      "metadata": {
        "id": "Z8Xne4hOs81P"
      },
      "source": [
        "merge['comb_3'] = merge.Region_Code.astype(str) + merge.Reco_Policy_Cat.astype(str) \n",
        "merge['comb_3'] = merge['comb_3'].map(merge['comb_3'].value_counts(normalize=True))"
      ],
      "execution_count": 112,
      "outputs": []
    },
    {
      "cell_type": "code",
      "metadata": {
        "id": "Sk8F8vattB5f"
      },
      "source": [
        "m = merge.groupby('comb_3')['Reco_Policy_Premium'].agg(['mean','max','min']).reset_index()\n",
        "m.columns = ['comb_3'] + [f'comb_3_Reco_Policy_Premium_{i}' for i in m.columns[1:]]\n",
        "merge = merge.merge(m,on=\"comb_3\",how=\"left\")"
      ],
      "execution_count": 113,
      "outputs": []
    },
    {
      "cell_type": "code",
      "metadata": {
        "id": "sdfWt6W2tE9z"
      },
      "source": [
        "merge['comb_4'] = merge.City_Code.astype(str) + merge.Reco_Policy_Cat.astype(str) + merge.Region_Code.astype(str) \n",
        "merge['comb_4'] = merge['comb_4'].map(merge['comb_4'].value_counts(normalize=True))"
      ],
      "execution_count": 114,
      "outputs": []
    },
    {
      "cell_type": "code",
      "metadata": {
        "id": "fgEUAftptFsY"
      },
      "source": [
        "m = merge.groupby('comb_4')['Reco_Policy_Premium'].agg(['mean','max','min']).reset_index()\n",
        "m.columns = ['comb_4'] + [f'comb_4_Reco_Policy_Premium_{i}' for i in m.columns[1:]]\n",
        "merge = merge.merge(m,on=\"comb_4\",how=\"left\")"
      ],
      "execution_count": 115,
      "outputs": []
    },
    {
      "cell_type": "code",
      "metadata": {
        "id": "iUgBUSvKtF4O"
      },
      "source": [
        "m = merge.groupby('Region_Code')['Upper_Age'].agg(['mean']).reset_index()\n",
        "m.columns = ['Region_Code'] + [f'Region_Code_Upper_Age_{i}' for i in m.columns[1:]]\n",
        "merge = merge.merge(m,on=\"Region_Code\",how=\"left\")"
      ],
      "execution_count": 116,
      "outputs": []
    },
    {
      "cell_type": "code",
      "metadata": {
        "id": "-j7JPdeltGAS"
      },
      "source": [
        "merge['comb_5'] = merge.Reco_Policy_Cat.astype(str) + merge.Holding_Policy_Type.astype(str)\n",
        "merge['comb_5'] = merge['comb_5'].map(merge['comb_5'].value_counts(normalize=True))"
      ],
      "execution_count": 117,
      "outputs": []
    },
    {
      "cell_type": "code",
      "metadata": {
        "id": "4R6kBzPOtGMW"
      },
      "source": [
        "m = merge.groupby('comb_5')['Reco_Policy_Premium'].agg(['mean','max','min']).reset_index()\n",
        "m.columns = ['comb_5'] + [f'comb_5_Reco_Policy_Premium_{i}' for i in m.columns[1:]]\n",
        "merge = merge.merge(m,on=\"comb_5\",how=\"left\")"
      ],
      "execution_count": 118,
      "outputs": []
    },
    {
      "cell_type": "code",
      "metadata": {
        "id": "bkj0YaTwtGYJ"
      },
      "source": [
        "m = merge.groupby('Reco_Policy_Cat')['Upper_Age'].agg(['mean']).reset_index()\n",
        "m.columns = ['Reco_Policy_Cat'] + [f'Reco_Policy_Cat_Upper_Age_{i}' for i in m.columns[1:]]\n",
        "merge = merge.merge(m,on=\"Reco_Policy_Cat\",how=\"left\")"
      ],
      "execution_count": 119,
      "outputs": []
    },
    {
      "cell_type": "code",
      "metadata": {
        "id": "punJ15EotGjs"
      },
      "source": [
        "merge['comb_6'] = merge.City_Code.astype(str) + merge.Holding_Policy_Type.astype(str)\n",
        "merge['comb_6'] = merge['comb_6'].map(merge['comb_6'].value_counts(normalize=True))"
      ],
      "execution_count": 120,
      "outputs": []
    },
    {
      "cell_type": "code",
      "metadata": {
        "id": "bQquOdCUtbM7"
      },
      "source": [
        "m = merge.groupby('comb_6')['Reco_Policy_Premium'].agg(['mean','max','min']).reset_index()\n",
        "m.columns = ['comb_6'] + [f'comb_6_Reco_Policy_Premium_{i}' for i in m.columns[1:]]\n",
        "merge = merge.merge(m,on=\"comb_6\",how=\"left\")"
      ],
      "execution_count": 121,
      "outputs": []
    },
    {
      "cell_type": "code",
      "metadata": {
        "id": "YCshtmxEtbYq"
      },
      "source": [
        "m = merge.groupby('Health Indicator')['Reco_Policy_Premium'].agg(['mean']).reset_index()\n",
        "m.columns = ['Health Indicator'] + [f'Health Indicator_Reco_Policy_Premium_{i}' for i in m.columns[1:]]\n",
        "merge = merge.merge(m,on=\"Health Indicator\",how=\"left\")"
      ],
      "execution_count": 122,
      "outputs": []
    },
    {
      "cell_type": "code",
      "metadata": {
        "id": "1jky5-B_tbmA"
      },
      "source": [
        "m = merge.groupby('Holding_Policy_Duration')['Reco_Policy_Premium'].agg(['mean']).reset_index()\n",
        "m.columns = ['Holding_Policy_Duration'] + [f'Holding_Policy_Duration_Reco_Policy_Premium_{i}' for i in m.columns[1:]]\n",
        "merge = merge.merge(m,on=\"Holding_Policy_Duration\",how=\"left\")"
      ],
      "execution_count": 123,
      "outputs": []
    },
    {
      "cell_type": "code",
      "metadata": {
        "id": "iC4oAw68tbtj"
      },
      "source": [
        "m = merge.groupby('Reco_Policy_Cat')['Region_Code'].agg(['nunique','count']).reset_index()\n",
        "m.columns = ['Reco_Policy_Cat'] + [f'Reco_Policy_Cat_Region_Code_{i}' for i in m.columns[1:]]\n",
        "merge = merge.merge(m,on=\"Reco_Policy_Cat\",how=\"left\")"
      ],
      "execution_count": 124,
      "outputs": []
    },
    {
      "cell_type": "code",
      "metadata": {
        "id": "K_qHYgKOtb54"
      },
      "source": [
        "merge['comb_7'] = merge.City_Code.astype(str) + merge.Holding_Policy_Duration.astype(str)\n",
        "merge['comb_7'] = merge['comb_7'].map(merge['comb_7'].value_counts(normalize=True))"
      ],
      "execution_count": 125,
      "outputs": []
    },
    {
      "cell_type": "code",
      "metadata": {
        "id": "L5NdH87JtcF-"
      },
      "source": [
        "merge['comb_8'] = merge.City_Code.astype(str) + merge['Health Indicator'].astype(str)\n",
        "merge['comb_8'] = merge['comb_8'].map(merge['comb_8'].value_counts(normalize=True))"
      ],
      "execution_count": 126,
      "outputs": []
    },
    {
      "cell_type": "code",
      "metadata": {
        "id": "FCYtKOmTtcSm"
      },
      "source": [
        "merge['comb_9'] = merge.Reco_Policy_Cat.astype(str) + merge['Health Indicator'].astype(str)\n",
        "merge['comb_9'] = merge['comb_9'].map(merge['comb_9'].value_counts(normalize=True))"
      ],
      "execution_count": 127,
      "outputs": []
    },
    {
      "cell_type": "code",
      "metadata": {
        "id": "CQS3jOk5tce4"
      },
      "source": [
        "m = merge.groupby('comb_7')['Reco_Policy_Premium'].agg(['mean','max','min']).reset_index()\n",
        "m.columns = ['comb_7'] + [f'comb_7_Reco_Policy_Premium_{i}' for i in m.columns[1:]]\n",
        "merge = merge.merge(m,on=\"comb_7\",how=\"left\")"
      ],
      "execution_count": 128,
      "outputs": []
    },
    {
      "cell_type": "code",
      "metadata": {
        "id": "gEYVsJxrtcr-"
      },
      "source": [
        "m = merge.groupby('comb_2')['comb_4'].agg(['nunique','count']).reset_index()\n",
        "m.columns = ['comb_2'] + [f'comb_2_comb_4_{i}' for i in m.columns[1:]]\n",
        "merge = merge.merge(m,on=\"comb_2\",how=\"left\")"
      ],
      "execution_count": 129,
      "outputs": []
    },
    {
      "cell_type": "code",
      "metadata": {
        "id": "PArms2Z9tc5J"
      },
      "source": [
        "m = merge.groupby('comb_1')['comb_4'].agg(['nunique','count']).reset_index()\n",
        "m.columns = ['comb_1'] + [f'comb_1_comb_4_{i}' for i in m.columns[1:]]\n",
        "merge = merge.merge(m,on=\"comb_1\",how=\"left\")"
      ],
      "execution_count": 130,
      "outputs": []
    },
    {
      "cell_type": "code",
      "metadata": {
        "colab": {
          "base_uri": "https://localhost:8080/",
          "height": 456
        },
        "id": "omOra35OlgE2",
        "outputId": "8af67c80-069b-447f-ce5f-80b399a97e95"
      },
      "source": [
        "train_data = merge[~merge.Response.isna()]\n",
        "test_data = merge[merge.Response.isna()].drop('Response',axis=1)\n",
        "\n",
        "train_data"
      ],
      "execution_count": 131,
      "outputs": [
        {
          "output_type": "execute_result",
          "data": {
            "text/html": [
              "<div>\n",
              "<style scoped>\n",
              "    .dataframe tbody tr th:only-of-type {\n",
              "        vertical-align: middle;\n",
              "    }\n",
              "\n",
              "    .dataframe tbody tr th {\n",
              "        vertical-align: top;\n",
              "    }\n",
              "\n",
              "    .dataframe thead th {\n",
              "        text-align: right;\n",
              "    }\n",
              "</style>\n",
              "<table border=\"1\" class=\"dataframe\">\n",
              "  <thead>\n",
              "    <tr style=\"text-align: right;\">\n",
              "      <th></th>\n",
              "      <th>ID</th>\n",
              "      <th>City_Code</th>\n",
              "      <th>Region_Code</th>\n",
              "      <th>Accomodation_Type</th>\n",
              "      <th>Reco_Insurance_Type</th>\n",
              "      <th>Upper_Age</th>\n",
              "      <th>Lower_Age</th>\n",
              "      <th>Is_Spouse</th>\n",
              "      <th>Health Indicator</th>\n",
              "      <th>Holding_Policy_Duration</th>\n",
              "      <th>Holding_Policy_Type</th>\n",
              "      <th>Reco_Policy_Cat</th>\n",
              "      <th>Reco_Policy_Premium</th>\n",
              "      <th>Response</th>\n",
              "      <th>Region_Code_encoded</th>\n",
              "      <th>comb_1</th>\n",
              "      <th>Region_Code_Reco_Policy_Premium_mean</th>\n",
              "      <th>Region_Code_Reco_Policy_Premium_max</th>\n",
              "      <th>Region_Code_Reco_Policy_Premium_min</th>\n",
              "      <th>comb_1_Reco_Policy_Premium_mean_x</th>\n",
              "      <th>comb_1_Reco_Policy_Premium_max_x</th>\n",
              "      <th>comb_1_Reco_Policy_Premium_min_x</th>\n",
              "      <th>comb_1_Reco_Policy_Premium_min_y</th>\n",
              "      <th>comb_1_Reco_Policy_Premium_max_y</th>\n",
              "      <th>comb_1_Reco_Policy_Premium_mean_y</th>\n",
              "      <th>comb_2</th>\n",
              "      <th>mean</th>\n",
              "      <th>max</th>\n",
              "      <th>min</th>\n",
              "      <th>comb_2_Reco_Policy_Premium_mean</th>\n",
              "      <th>comb_2_Reco_Policy_Premium_max</th>\n",
              "      <th>comb_2_Reco_Policy_Premium_min</th>\n",
              "      <th>comb_3</th>\n",
              "      <th>comb_3_Reco_Policy_Premium_mean</th>\n",
              "      <th>comb_3_Reco_Policy_Premium_max</th>\n",
              "      <th>comb_3_Reco_Policy_Premium_min</th>\n",
              "      <th>comb_4</th>\n",
              "      <th>comb_4_Reco_Policy_Premium_mean</th>\n",
              "      <th>comb_4_Reco_Policy_Premium_max</th>\n",
              "      <th>comb_4_Reco_Policy_Premium_min</th>\n",
              "      <th>Region_Code_Upper_Age_mean</th>\n",
              "      <th>comb_5</th>\n",
              "      <th>comb_5_Reco_Policy_Premium_mean</th>\n",
              "      <th>comb_5_Reco_Policy_Premium_max</th>\n",
              "      <th>comb_5_Reco_Policy_Premium_min</th>\n",
              "      <th>Reco_Policy_Cat_Upper_Age_mean</th>\n",
              "      <th>comb_6</th>\n",
              "      <th>comb_6_Reco_Policy_Premium_mean</th>\n",
              "      <th>comb_6_Reco_Policy_Premium_max</th>\n",
              "      <th>comb_6_Reco_Policy_Premium_min</th>\n",
              "      <th>Health Indicator_Reco_Policy_Premium_mean</th>\n",
              "      <th>Holding_Policy_Duration_Reco_Policy_Premium_mean</th>\n",
              "      <th>Reco_Policy_Cat_Region_Code_nunique</th>\n",
              "      <th>Reco_Policy_Cat_Region_Code_count</th>\n",
              "      <th>comb_7</th>\n",
              "      <th>comb_8</th>\n",
              "      <th>comb_9</th>\n",
              "      <th>comb_7_Reco_Policy_Premium_mean</th>\n",
              "      <th>comb_7_Reco_Policy_Premium_max</th>\n",
              "      <th>comb_7_Reco_Policy_Premium_min</th>\n",
              "      <th>comb_2_comb_4_nunique</th>\n",
              "      <th>comb_2_comb_4_count</th>\n",
              "      <th>comb_1_comb_4_nunique</th>\n",
              "      <th>comb_1_comb_4_count</th>\n",
              "    </tr>\n",
              "  </thead>\n",
              "  <tbody>\n",
              "    <tr>\n",
              "      <th>0</th>\n",
              "      <td>1</td>\n",
              "      <td>22</td>\n",
              "      <td>3213</td>\n",
              "      <td>1</td>\n",
              "      <td>0</td>\n",
              "      <td>36</td>\n",
              "      <td>36</td>\n",
              "      <td>0</td>\n",
              "      <td>0.0</td>\n",
              "      <td>5.0</td>\n",
              "      <td>2.0</td>\n",
              "      <td>22</td>\n",
              "      <td>11628.0</td>\n",
              "      <td>0.0</td>\n",
              "      <td>2</td>\n",
              "      <td>0.000138</td>\n",
              "      <td>12130.080000</td>\n",
              "      <td>27596.8</td>\n",
              "      <td>4002.0</td>\n",
              "      <td>14164.909296</td>\n",
              "      <td>40550.4</td>\n",
              "      <td>2624.0</td>\n",
              "      <td>2624.0</td>\n",
              "      <td>40550.4</td>\n",
              "      <td>14164.909296</td>\n",
              "      <td>0.007292</td>\n",
              "      <td>14589.814674</td>\n",
              "      <td>42316.8</td>\n",
              "      <td>2464.0</td>\n",
              "      <td>14070.144906</td>\n",
              "      <td>35037.0</td>\n",
              "      <td>2712.0</td>\n",
              "      <td>0.000014</td>\n",
              "      <td>14066.644022</td>\n",
              "      <td>42739.2</td>\n",
              "      <td>2400.0</td>\n",
              "      <td>0.000014</td>\n",
              "      <td>14074.029042</td>\n",
              "      <td>42739.2</td>\n",
              "      <td>2400.0</td>\n",
              "      <td>40.700000</td>\n",
              "      <td>0.069105</td>\n",
              "      <td>14003.593988</td>\n",
              "      <td>42256.0</td>\n",
              "      <td>2464.0</td>\n",
              "      <td>44.595306</td>\n",
              "      <td>0.044258</td>\n",
              "      <td>13765.574510</td>\n",
              "      <td>41496.0</td>\n",
              "      <td>2548.0</td>\n",
              "      <td>13587.189675</td>\n",
              "      <td>18459.859390</td>\n",
              "      <td>2862</td>\n",
              "      <td>9459</td>\n",
              "      <td>0.018201</td>\n",
              "      <td>0.043529</td>\n",
              "      <td>0.050697</td>\n",
              "      <td>17973.844747</td>\n",
              "      <td>41496.0</td>\n",
              "      <td>6696.0</td>\n",
              "      <td>13</td>\n",
              "      <td>530</td>\n",
              "      <td>10</td>\n",
              "      <td>2130</td>\n",
              "    </tr>\n",
              "    <tr>\n",
              "      <th>1</th>\n",
              "      <td>2</td>\n",
              "      <td>31</td>\n",
              "      <td>1117</td>\n",
              "      <td>0</td>\n",
              "      <td>1</td>\n",
              "      <td>75</td>\n",
              "      <td>22</td>\n",
              "      <td>0</td>\n",
              "      <td>1.0</td>\n",
              "      <td>5.0</td>\n",
              "      <td>2.0</td>\n",
              "      <td>22</td>\n",
              "      <td>30510.0</td>\n",
              "      <td>0.0</td>\n",
              "      <td>13</td>\n",
              "      <td>0.000289</td>\n",
              "      <td>16076.342857</td>\n",
              "      <td>39398.4</td>\n",
              "      <td>4074.0</td>\n",
              "      <td>14256.315580</td>\n",
              "      <td>39960.0</td>\n",
              "      <td>2600.0</td>\n",
              "      <td>2600.0</td>\n",
              "      <td>39960.0</td>\n",
              "      <td>14256.315580</td>\n",
              "      <td>0.001458</td>\n",
              "      <td>14589.814674</td>\n",
              "      <td>42316.8</td>\n",
              "      <td>2464.0</td>\n",
              "      <td>14318.756604</td>\n",
              "      <td>39398.4</td>\n",
              "      <td>3984.0</td>\n",
              "      <td>0.000220</td>\n",
              "      <td>14209.203549</td>\n",
              "      <td>39398.4</td>\n",
              "      <td>2700.0</td>\n",
              "      <td>0.000220</td>\n",
              "      <td>14061.558333</td>\n",
              "      <td>39398.4</td>\n",
              "      <td>2700.0</td>\n",
              "      <td>41.333333</td>\n",
              "      <td>0.069105</td>\n",
              "      <td>14003.593988</td>\n",
              "      <td>42256.0</td>\n",
              "      <td>2464.0</td>\n",
              "      <td>44.595306</td>\n",
              "      <td>0.012423</td>\n",
              "      <td>13430.287929</td>\n",
              "      <td>36448.0</td>\n",
              "      <td>2736.0</td>\n",
              "      <td>15079.031053</td>\n",
              "      <td>18459.859390</td>\n",
              "      <td>2862</td>\n",
              "      <td>9459</td>\n",
              "      <td>0.004347</td>\n",
              "      <td>0.006191</td>\n",
              "      <td>0.035921</td>\n",
              "      <td>18339.926582</td>\n",
              "      <td>37962.0</td>\n",
              "      <td>7994.0</td>\n",
              "      <td>8</td>\n",
              "      <td>212</td>\n",
              "      <td>19</td>\n",
              "      <td>2163</td>\n",
              "    </tr>\n",
              "    <tr>\n",
              "      <th>2</th>\n",
              "      <td>3</td>\n",
              "      <td>31</td>\n",
              "      <td>3732</td>\n",
              "      <td>0</td>\n",
              "      <td>0</td>\n",
              "      <td>32</td>\n",
              "      <td>32</td>\n",
              "      <td>0</td>\n",
              "      <td>0.0</td>\n",
              "      <td>0.0</td>\n",
              "      <td>0.0</td>\n",
              "      <td>19</td>\n",
              "      <td>7450.0</td>\n",
              "      <td>1.0</td>\n",
              "      <td>4</td>\n",
              "      <td>0.000110</td>\n",
              "      <td>11336.000000</td>\n",
              "      <td>19680.0</td>\n",
              "      <td>5344.0</td>\n",
              "      <td>14079.977220</td>\n",
              "      <td>38476.8</td>\n",
              "      <td>2472.0</td>\n",
              "      <td>2472.0</td>\n",
              "      <td>38476.8</td>\n",
              "      <td>14079.977220</td>\n",
              "      <td>0.001596</td>\n",
              "      <td>14714.576838</td>\n",
              "      <td>43046.4</td>\n",
              "      <td>2624.0</td>\n",
              "      <td>12584.374138</td>\n",
              "      <td>35872.0</td>\n",
              "      <td>2508.0</td>\n",
              "      <td>0.000028</td>\n",
              "      <td>13973.244532</td>\n",
              "      <td>41648.0</td>\n",
              "      <td>2152.0</td>\n",
              "      <td>0.000028</td>\n",
              "      <td>13947.101367</td>\n",
              "      <td>41648.0</td>\n",
              "      <td>2152.0</td>\n",
              "      <td>35.125000</td>\n",
              "      <td>0.053462</td>\n",
              "      <td>13829.736644</td>\n",
              "      <td>43046.4</td>\n",
              "      <td>2624.0</td>\n",
              "      <td>45.305697</td>\n",
              "      <td>0.008145</td>\n",
              "      <td>13000.609797</td>\n",
              "      <td>39398.4</td>\n",
              "      <td>3678.0</td>\n",
              "      <td>13587.189675</td>\n",
              "      <td>11068.057509</td>\n",
              "      <td>1599</td>\n",
              "      <td>5319</td>\n",
              "      <td>0.009011</td>\n",
              "      <td>0.012437</td>\n",
              "      <td>0.034532</td>\n",
              "      <td>11444.826870</td>\n",
              "      <td>39398.4</td>\n",
              "      <td>2736.0</td>\n",
              "      <td>12</td>\n",
              "      <td>348</td>\n",
              "      <td>8</td>\n",
              "      <td>1712</td>\n",
              "    </tr>\n",
              "    <tr>\n",
              "      <th>3</th>\n",
              "      <td>4</td>\n",
              "      <td>16</td>\n",
              "      <td>4378</td>\n",
              "      <td>0</td>\n",
              "      <td>1</td>\n",
              "      <td>52</td>\n",
              "      <td>48</td>\n",
              "      <td>0</td>\n",
              "      <td>0.0</td>\n",
              "      <td>5.0</td>\n",
              "      <td>2.0</td>\n",
              "      <td>19</td>\n",
              "      <td>17780.0</td>\n",
              "      <td>0.0</td>\n",
              "      <td>6</td>\n",
              "      <td>0.000069</td>\n",
              "      <td>14329.200000</td>\n",
              "      <td>17780.0</td>\n",
              "      <td>10962.0</td>\n",
              "      <td>14280.527336</td>\n",
              "      <td>37590.4</td>\n",
              "      <td>2668.0</td>\n",
              "      <td>2668.0</td>\n",
              "      <td>37590.4</td>\n",
              "      <td>14280.527336</td>\n",
              "      <td>0.001169</td>\n",
              "      <td>14714.576838</td>\n",
              "      <td>43046.4</td>\n",
              "      <td>2624.0</td>\n",
              "      <td>14964.381176</td>\n",
              "      <td>43046.4</td>\n",
              "      <td>3624.0</td>\n",
              "      <td>0.000014</td>\n",
              "      <td>14066.644022</td>\n",
              "      <td>42739.2</td>\n",
              "      <td>2400.0</td>\n",
              "      <td>0.000014</td>\n",
              "      <td>14074.029042</td>\n",
              "      <td>42739.2</td>\n",
              "      <td>2400.0</td>\n",
              "      <td>48.400000</td>\n",
              "      <td>0.011240</td>\n",
              "      <td>17766.363525</td>\n",
              "      <td>40550.4</td>\n",
              "      <td>3930.0</td>\n",
              "      <td>45.305697</td>\n",
              "      <td>0.002944</td>\n",
              "      <td>16259.319626</td>\n",
              "      <td>42012.8</td>\n",
              "      <td>3972.0</td>\n",
              "      <td>13587.189675</td>\n",
              "      <td>18459.859390</td>\n",
              "      <td>1599</td>\n",
              "      <td>5319</td>\n",
              "      <td>0.002339</td>\n",
              "      <td>0.004375</td>\n",
              "      <td>0.034532</td>\n",
              "      <td>18130.344706</td>\n",
              "      <td>42012.8</td>\n",
              "      <td>8386.0</td>\n",
              "      <td>9</td>\n",
              "      <td>255</td>\n",
              "      <td>5</td>\n",
              "      <td>1145</td>\n",
              "    </tr>\n",
              "    <tr>\n",
              "      <th>4</th>\n",
              "      <td>5</td>\n",
              "      <td>34</td>\n",
              "      <td>2190</td>\n",
              "      <td>1</td>\n",
              "      <td>0</td>\n",
              "      <td>44</td>\n",
              "      <td>44</td>\n",
              "      <td>0</td>\n",
              "      <td>1.0</td>\n",
              "      <td>8.0</td>\n",
              "      <td>0.0</td>\n",
              "      <td>16</td>\n",
              "      <td>10404.0</td>\n",
              "      <td>0.0</td>\n",
              "      <td>17</td>\n",
              "      <td>0.000193</td>\n",
              "      <td>16664.157143</td>\n",
              "      <td>22932.0</td>\n",
              "      <td>9328.0</td>\n",
              "      <td>14301.799689</td>\n",
              "      <td>38851.2</td>\n",
              "      <td>2512.0</td>\n",
              "      <td>2512.0</td>\n",
              "      <td>38851.2</td>\n",
              "      <td>14301.799689</td>\n",
              "      <td>0.003192</td>\n",
              "      <td>14264.687867</td>\n",
              "      <td>39528.0</td>\n",
              "      <td>2380.0</td>\n",
              "      <td>13681.716379</td>\n",
              "      <td>34054.4</td>\n",
              "      <td>2488.0</td>\n",
              "      <td>0.000151</td>\n",
              "      <td>14319.653641</td>\n",
              "      <td>43776.0</td>\n",
              "      <td>2908.0</td>\n",
              "      <td>0.000151</td>\n",
              "      <td>14293.252217</td>\n",
              "      <td>43776.0</td>\n",
              "      <td>2908.0</td>\n",
              "      <td>49.785714</td>\n",
              "      <td>0.056475</td>\n",
              "      <td>13474.317125</td>\n",
              "      <td>37900.8</td>\n",
              "      <td>2380.0</td>\n",
              "      <td>44.441410</td>\n",
              "      <td>0.008475</td>\n",
              "      <td>12011.247078</td>\n",
              "      <td>33792.0</td>\n",
              "      <td>2472.0</td>\n",
              "      <td>15079.031053</td>\n",
              "      <td>13088.703172</td>\n",
              "      <td>1857</td>\n",
              "      <td>5786</td>\n",
              "      <td>0.003316</td>\n",
              "      <td>0.009369</td>\n",
              "      <td>0.018449</td>\n",
              "      <td>12079.000000</td>\n",
              "      <td>37574.4</td>\n",
              "      <td>3564.0</td>\n",
              "      <td>14</td>\n",
              "      <td>464</td>\n",
              "      <td>14</td>\n",
              "      <td>2576</td>\n",
              "    </tr>\n",
              "    <tr>\n",
              "      <th>...</th>\n",
              "      <td>...</td>\n",
              "      <td>...</td>\n",
              "      <td>...</td>\n",
              "      <td>...</td>\n",
              "      <td>...</td>\n",
              "      <td>...</td>\n",
              "      <td>...</td>\n",
              "      <td>...</td>\n",
              "      <td>...</td>\n",
              "      <td>...</td>\n",
              "      <td>...</td>\n",
              "      <td>...</td>\n",
              "      <td>...</td>\n",
              "      <td>...</td>\n",
              "      <td>...</td>\n",
              "      <td>...</td>\n",
              "      <td>...</td>\n",
              "      <td>...</td>\n",
              "      <td>...</td>\n",
              "      <td>...</td>\n",
              "      <td>...</td>\n",
              "      <td>...</td>\n",
              "      <td>...</td>\n",
              "      <td>...</td>\n",
              "      <td>...</td>\n",
              "      <td>...</td>\n",
              "      <td>...</td>\n",
              "      <td>...</td>\n",
              "      <td>...</td>\n",
              "      <td>...</td>\n",
              "      <td>...</td>\n",
              "      <td>...</td>\n",
              "      <td>...</td>\n",
              "      <td>...</td>\n",
              "      <td>...</td>\n",
              "      <td>...</td>\n",
              "      <td>...</td>\n",
              "      <td>...</td>\n",
              "      <td>...</td>\n",
              "      <td>...</td>\n",
              "      <td>...</td>\n",
              "      <td>...</td>\n",
              "      <td>...</td>\n",
              "      <td>...</td>\n",
              "      <td>...</td>\n",
              "      <td>...</td>\n",
              "      <td>...</td>\n",
              "      <td>...</td>\n",
              "      <td>...</td>\n",
              "      <td>...</td>\n",
              "      <td>...</td>\n",
              "      <td>...</td>\n",
              "      <td>...</td>\n",
              "      <td>...</td>\n",
              "      <td>...</td>\n",
              "      <td>...</td>\n",
              "      <td>...</td>\n",
              "      <td>...</td>\n",
              "      <td>...</td>\n",
              "      <td>...</td>\n",
              "      <td>...</td>\n",
              "      <td>...</td>\n",
              "      <td>...</td>\n",
              "      <td>...</td>\n",
              "    </tr>\n",
              "    <tr>\n",
              "      <th>50877</th>\n",
              "      <td>50878</td>\n",
              "      <td>30</td>\n",
              "      <td>845</td>\n",
              "      <td>1</td>\n",
              "      <td>0</td>\n",
              "      <td>22</td>\n",
              "      <td>22</td>\n",
              "      <td>0</td>\n",
              "      <td>2.0</td>\n",
              "      <td>7.0</td>\n",
              "      <td>2.0</td>\n",
              "      <td>18</td>\n",
              "      <td>7704.0</td>\n",
              "      <td>0.0</td>\n",
              "      <td>12</td>\n",
              "      <td>0.000358</td>\n",
              "      <td>11601.246154</td>\n",
              "      <td>24816.0</td>\n",
              "      <td>5504.0</td>\n",
              "      <td>13727.865324</td>\n",
              "      <td>39702.4</td>\n",
              "      <td>2408.0</td>\n",
              "      <td>2408.0</td>\n",
              "      <td>39702.4</td>\n",
              "      <td>13727.865324</td>\n",
              "      <td>0.010676</td>\n",
              "      <td>14662.230748</td>\n",
              "      <td>43350.4</td>\n",
              "      <td>2596.0</td>\n",
              "      <td>13107.845619</td>\n",
              "      <td>37900.8</td>\n",
              "      <td>2596.0</td>\n",
              "      <td>0.000248</td>\n",
              "      <td>14158.726901</td>\n",
              "      <td>37264.0</td>\n",
              "      <td>2736.0</td>\n",
              "      <td>0.000248</td>\n",
              "      <td>14212.995767</td>\n",
              "      <td>37264.0</td>\n",
              "      <td>2736.0</td>\n",
              "      <td>35.846154</td>\n",
              "      <td>0.087210</td>\n",
              "      <td>14596.556523</td>\n",
              "      <td>43350.4</td>\n",
              "      <td>2596.0</td>\n",
              "      <td>46.389480</td>\n",
              "      <td>0.041864</td>\n",
              "      <td>12678.309892</td>\n",
              "      <td>39340.8</td>\n",
              "      <td>2488.0</td>\n",
              "      <td>13582.294285</td>\n",
              "      <td>11818.380621</td>\n",
              "      <td>2443</td>\n",
              "      <td>7890</td>\n",
              "      <td>0.014982</td>\n",
              "      <td>0.010827</td>\n",
              "      <td>0.013455</td>\n",
              "      <td>11329.775941</td>\n",
              "      <td>39558.0</td>\n",
              "      <td>3462.0</td>\n",
              "      <td>22</td>\n",
              "      <td>776</td>\n",
              "      <td>21</td>\n",
              "      <td>1638</td>\n",
              "    </tr>\n",
              "    <tr>\n",
              "      <th>50878</th>\n",
              "      <td>50879</td>\n",
              "      <td>31</td>\n",
              "      <td>4188</td>\n",
              "      <td>1</td>\n",
              "      <td>0</td>\n",
              "      <td>27</td>\n",
              "      <td>27</td>\n",
              "      <td>0</td>\n",
              "      <td>2.0</td>\n",
              "      <td>12.0</td>\n",
              "      <td>2.0</td>\n",
              "      <td>4</td>\n",
              "      <td>5408.0</td>\n",
              "      <td>0.0</td>\n",
              "      <td>5</td>\n",
              "      <td>0.000096</td>\n",
              "      <td>12625.600000</td>\n",
              "      <td>33312.0</td>\n",
              "      <td>5240.0</td>\n",
              "      <td>14168.951786</td>\n",
              "      <td>41648.0</td>\n",
              "      <td>2280.0</td>\n",
              "      <td>2280.0</td>\n",
              "      <td>41648.0</td>\n",
              "      <td>14168.951786</td>\n",
              "      <td>0.000619</td>\n",
              "      <td>12497.835246</td>\n",
              "      <td>38000.0</td>\n",
              "      <td>2536.0</td>\n",
              "      <td>11407.555556</td>\n",
              "      <td>33312.0</td>\n",
              "      <td>3660.0</td>\n",
              "      <td>0.000069</td>\n",
              "      <td>14244.983789</td>\n",
              "      <td>40550.4</td>\n",
              "      <td>2280.0</td>\n",
              "      <td>0.000069</td>\n",
              "      <td>14266.346844</td>\n",
              "      <td>40550.4</td>\n",
              "      <td>2280.0</td>\n",
              "      <td>37.571429</td>\n",
              "      <td>0.013207</td>\n",
              "      <td>12560.429375</td>\n",
              "      <td>34790.4</td>\n",
              "      <td>2536.0</td>\n",
              "      <td>41.461066</td>\n",
              "      <td>0.012423</td>\n",
              "      <td>13430.287929</td>\n",
              "      <td>36448.0</td>\n",
              "      <td>2736.0</td>\n",
              "      <td>13582.294285</td>\n",
              "      <td>15515.085942</td>\n",
              "      <td>275</td>\n",
              "      <td>1464</td>\n",
              "      <td>0.000702</td>\n",
              "      <td>0.003990</td>\n",
              "      <td>0.002586</td>\n",
              "      <td>13773.362353</td>\n",
              "      <td>34380.8</td>\n",
              "      <td>3534.0</td>\n",
              "      <td>5</td>\n",
              "      <td>45</td>\n",
              "      <td>7</td>\n",
              "      <td>1792</td>\n",
              "    </tr>\n",
              "    <tr>\n",
              "      <th>50879</th>\n",
              "      <td>50880</td>\n",
              "      <td>0</td>\n",
              "      <td>442</td>\n",
              "      <td>1</td>\n",
              "      <td>0</td>\n",
              "      <td>63</td>\n",
              "      <td>63</td>\n",
              "      <td>0</td>\n",
              "      <td>1.0</td>\n",
              "      <td>5.0</td>\n",
              "      <td>0.0</td>\n",
              "      <td>12</td>\n",
              "      <td>11374.0</td>\n",
              "      <td>0.0</td>\n",
              "      <td>1</td>\n",
              "      <td>0.000426</td>\n",
              "      <td>14359.212903</td>\n",
              "      <td>31212.0</td>\n",
              "      <td>4488.0</td>\n",
              "      <td>14008.309053</td>\n",
              "      <td>35370.0</td>\n",
              "      <td>2776.0</td>\n",
              "      <td>2776.0</td>\n",
              "      <td>35370.0</td>\n",
              "      <td>14008.309053</td>\n",
              "      <td>0.006659</td>\n",
              "      <td>12774.018036</td>\n",
              "      <td>38246.4</td>\n",
              "      <td>2400.0</td>\n",
              "      <td>14178.485950</td>\n",
              "      <td>37452.8</td>\n",
              "      <td>3028.0</td>\n",
              "      <td>0.000206</td>\n",
              "      <td>14064.709333</td>\n",
              "      <td>39712.0</td>\n",
              "      <td>2464.0</td>\n",
              "      <td>0.000206</td>\n",
              "      <td>14164.481961</td>\n",
              "      <td>39712.0</td>\n",
              "      <td>2464.0</td>\n",
              "      <td>47.935484</td>\n",
              "      <td>0.031780</td>\n",
              "      <td>12075.947965</td>\n",
              "      <td>38246.4</td>\n",
              "      <td>2400.0</td>\n",
              "      <td>43.050208</td>\n",
              "      <td>0.054356</td>\n",
              "      <td>14463.582283</td>\n",
              "      <td>39960.0</td>\n",
              "      <td>2764.0</td>\n",
              "      <td>15079.031053</td>\n",
              "      <td>18459.859390</td>\n",
              "      <td>1353</td>\n",
              "      <td>3127</td>\n",
              "      <td>0.054439</td>\n",
              "      <td>0.043268</td>\n",
              "      <td>0.008103</td>\n",
              "      <td>19477.657973</td>\n",
              "      <td>42739.2</td>\n",
              "      <td>7128.0</td>\n",
              "      <td>15</td>\n",
              "      <td>484</td>\n",
              "      <td>23</td>\n",
              "      <td>961</td>\n",
              "    </tr>\n",
              "    <tr>\n",
              "      <th>50880</th>\n",
              "      <td>50881</td>\n",
              "      <td>0</td>\n",
              "      <td>4</td>\n",
              "      <td>0</td>\n",
              "      <td>1</td>\n",
              "      <td>71</td>\n",
              "      <td>49</td>\n",
              "      <td>0</td>\n",
              "      <td>1.0</td>\n",
              "      <td>7.0</td>\n",
              "      <td>1.0</td>\n",
              "      <td>16</td>\n",
              "      <td>28179.2</td>\n",
              "      <td>1.0</td>\n",
              "      <td>0</td>\n",
              "      <td>0.001403</td>\n",
              "      <td>20943.890196</td>\n",
              "      <td>39276.8</td>\n",
              "      <td>5128.0</td>\n",
              "      <td>18004.915686</td>\n",
              "      <td>39276.8</td>\n",
              "      <td>4792.0</td>\n",
              "      <td>4792.0</td>\n",
              "      <td>39276.8</td>\n",
              "      <td>18004.915686</td>\n",
              "      <td>0.026332</td>\n",
              "      <td>14264.687867</td>\n",
              "      <td>39528.0</td>\n",
              "      <td>2380.0</td>\n",
              "      <td>15668.227900</td>\n",
              "      <td>39528.0</td>\n",
              "      <td>2888.0</td>\n",
              "      <td>0.000275</td>\n",
              "      <td>13357.406190</td>\n",
              "      <td>37264.0</td>\n",
              "      <td>3264.0</td>\n",
              "      <td>0.000248</td>\n",
              "      <td>14212.995767</td>\n",
              "      <td>37264.0</td>\n",
              "      <td>2736.0</td>\n",
              "      <td>64.088235</td>\n",
              "      <td>0.006163</td>\n",
              "      <td>15449.983036</td>\n",
              "      <td>39528.0</td>\n",
              "      <td>3552.0</td>\n",
              "      <td>44.441410</td>\n",
              "      <td>0.018889</td>\n",
              "      <td>15737.879971</td>\n",
              "      <td>40918.4</td>\n",
              "      <td>3522.0</td>\n",
              "      <td>15079.031053</td>\n",
              "      <td>11818.380621</td>\n",
              "      <td>1857</td>\n",
              "      <td>5786</td>\n",
              "      <td>0.023388</td>\n",
              "      <td>0.043268</td>\n",
              "      <td>0.018449</td>\n",
              "      <td>12004.861529</td>\n",
              "      <td>41833.6</td>\n",
              "      <td>3390.0</td>\n",
              "      <td>27</td>\n",
              "      <td>1914</td>\n",
              "      <td>10</td>\n",
              "      <td>204</td>\n",
              "    </tr>\n",
              "    <tr>\n",
              "      <th>50881</th>\n",
              "      <td>50882</td>\n",
              "      <td>22</td>\n",
              "      <td>3866</td>\n",
              "      <td>1</td>\n",
              "      <td>0</td>\n",
              "      <td>24</td>\n",
              "      <td>24</td>\n",
              "      <td>0</td>\n",
              "      <td>2.0</td>\n",
              "      <td>7.0</td>\n",
              "      <td>2.0</td>\n",
              "      <td>18</td>\n",
              "      <td>11424.0</td>\n",
              "      <td>0.0</td>\n",
              "      <td>4</td>\n",
              "      <td>0.000096</td>\n",
              "      <td>13894.285714</td>\n",
              "      <td>20250.0</td>\n",
              "      <td>7812.0</td>\n",
              "      <td>14168.951786</td>\n",
              "      <td>41648.0</td>\n",
              "      <td>2280.0</td>\n",
              "      <td>2280.0</td>\n",
              "      <td>41648.0</td>\n",
              "      <td>14168.951786</td>\n",
              "      <td>0.015711</td>\n",
              "      <td>14662.230748</td>\n",
              "      <td>43350.4</td>\n",
              "      <td>2596.0</td>\n",
              "      <td>13759.464623</td>\n",
              "      <td>37088.0</td>\n",
              "      <td>2896.0</td>\n",
              "      <td>0.000055</td>\n",
              "      <td>14357.471126</td>\n",
              "      <td>42579.0</td>\n",
              "      <td>2304.0</td>\n",
              "      <td>0.000055</td>\n",
              "      <td>14348.287136</td>\n",
              "      <td>42579.0</td>\n",
              "      <td>2304.0</td>\n",
              "      <td>43.857143</td>\n",
              "      <td>0.087210</td>\n",
              "      <td>14596.556523</td>\n",
              "      <td>43350.4</td>\n",
              "      <td>2596.0</td>\n",
              "      <td>46.389480</td>\n",
              "      <td>0.044258</td>\n",
              "      <td>13765.574510</td>\n",
              "      <td>41496.0</td>\n",
              "      <td>2548.0</td>\n",
              "      <td>13582.294285</td>\n",
              "      <td>11818.380621</td>\n",
              "      <td>2443</td>\n",
              "      <td>7890</td>\n",
              "      <td>0.020416</td>\n",
              "      <td>0.013826</td>\n",
              "      <td>0.013455</td>\n",
              "      <td>11475.117116</td>\n",
              "      <td>34224.0</td>\n",
              "      <td>3198.0</td>\n",
              "      <td>22</td>\n",
              "      <td>1142</td>\n",
              "      <td>7</td>\n",
              "      <td>1792</td>\n",
              "    </tr>\n",
              "  </tbody>\n",
              "</table>\n",
              "<p>50882 rows × 64 columns</p>\n",
              "</div>"
            ],
            "text/plain": [
              "          ID  City_Code  ...  comb_1_comb_4_nunique  comb_1_comb_4_count\n",
              "0          1         22  ...                     10                 2130\n",
              "1          2         31  ...                     19                 2163\n",
              "2          3         31  ...                      8                 1712\n",
              "3          4         16  ...                      5                 1145\n",
              "4          5         34  ...                     14                 2576\n",
              "...      ...        ...  ...                    ...                  ...\n",
              "50877  50878         30  ...                     21                 1638\n",
              "50878  50879         31  ...                      7                 1792\n",
              "50879  50880          0  ...                     23                  961\n",
              "50880  50881          0  ...                     10                  204\n",
              "50881  50882         22  ...                      7                 1792\n",
              "\n",
              "[50882 rows x 64 columns]"
            ]
          },
          "metadata": {
            "tags": []
          },
          "execution_count": 131
        }
      ]
    },
    {
      "cell_type": "code",
      "metadata": {
        "colab": {
          "base_uri": "https://localhost:8080/"
        },
        "id": "yszT9RYKlgNr",
        "outputId": "839bdf34-873c-4152-c135-c76154a286d3"
      },
      "source": [
        "from sklearn.preprocessing import StandardScaler\n",
        "\n",
        "X = train_data.drop(['Response','ID'],axis=1)\n",
        "Y = train_data['Response']\n",
        "\n",
        "folds = StratifiedKFold(n_splits=6,shuffle=True ,random_state=42)\n",
        "\n",
        "final_preds = pd.DataFrame()\n",
        "scores = []\n",
        "best_score = 0\n",
        "\n",
        "for i , (train_idx, test_idx) in enumerate(folds.split(X,Y)):\n",
        "  train_set=(X.iloc[train_idx],Y.iloc[train_idx])\n",
        "  test_set=(X.iloc[test_idx],Y.iloc[test_idx])\n",
        "\n",
        "  model = LGBMClassifier(metric=\"auc\",\n",
        "                         learning_rate = 0.08,\n",
        "                         n_estimators=5000,\n",
        "                         num_leaves=20,\n",
        "                         random_state=7,\n",
        "                        #  subsample=0.95\n",
        "                        #  reg_alpha=0.001,\n",
        "                        #  reg_lambda=0.01\n",
        "                         )\n",
        "  model.fit(*train_set,\n",
        "            eval_set=(test_set),\n",
        "            verbose=500,\n",
        "            early_stopping_rounds=500)\n",
        "    \n",
        "  preds = model.predict_proba(test_set[0])[:,1]\n",
        "  score = roc_auc_score(test_set[1],preds)\n",
        "  print(\"Score:: \",score)\n",
        "  scores.append(score)\n",
        "\n",
        "  if best_score < score:\n",
        "    best_model = model\n",
        "    best_score = score\n",
        "\n",
        "  predictions = model.predict_proba(test_data.drop('ID',axis=1))[:,1]\n",
        "  final_preds[i] = predictions\n",
        "\n",
        "  # break\n",
        "\n",
        "print('Mean Score',np.mean(scores))"
      ],
      "execution_count": 132,
      "outputs": [
        {
          "output_type": "stream",
          "text": [
            "Training until validation scores don't improve for 500 rounds.\n",
            "[500]\tvalid_0's auc: 0.796243\n",
            "Early stopping, best iteration is:\n",
            "[124]\tvalid_0's auc: 0.800079\n",
            "Score::  0.8000790159182961\n",
            "Training until validation scores don't improve for 500 rounds.\n",
            "[500]\tvalid_0's auc: 0.813354\n",
            "Early stopping, best iteration is:\n",
            "[313]\tvalid_0's auc: 0.814352\n",
            "Score::  0.8143518522047842\n",
            "Training until validation scores don't improve for 500 rounds.\n",
            "[500]\tvalid_0's auc: 0.807679\n",
            "Early stopping, best iteration is:\n",
            "[191]\tvalid_0's auc: 0.811411\n",
            "Score::  0.8114106421062235\n",
            "Training until validation scores don't improve for 500 rounds.\n",
            "[500]\tvalid_0's auc: 0.801383\n",
            "Early stopping, best iteration is:\n",
            "[125]\tvalid_0's auc: 0.803779\n",
            "Score::  0.8037792853153598\n",
            "Training until validation scores don't improve for 500 rounds.\n",
            "[500]\tvalid_0's auc: 0.801038\n",
            "Early stopping, best iteration is:\n",
            "[291]\tvalid_0's auc: 0.80318\n",
            "Score::  0.8031796547234871\n",
            "Training until validation scores don't improve for 500 rounds.\n",
            "[500]\tvalid_0's auc: 0.806028\n",
            "Early stopping, best iteration is:\n",
            "[214]\tvalid_0's auc: 0.808959\n",
            "Score::  0.8089594623186556\n",
            "Mean Score 0.8069599854311343\n"
          ],
          "name": "stdout"
        }
      ]
    },
    {
      "cell_type": "code",
      "metadata": {
        "colab": {
          "base_uri": "https://localhost:8080/",
          "height": 419
        },
        "id": "ggFp8fPZlgXS",
        "outputId": "56f10373-92eb-4bd8-da05-6c15adb804c8"
      },
      "source": [
        "pd.DataFrame(list(zip(X.columns,best_model.feature_importances_))).sort_values(1,ascending=False)"
      ],
      "execution_count": 133,
      "outputs": [
        {
          "output_type": "execute_result",
          "data": {
            "text/html": [
              "<div>\n",
              "<style scoped>\n",
              "    .dataframe tbody tr th:only-of-type {\n",
              "        vertical-align: middle;\n",
              "    }\n",
              "\n",
              "    .dataframe tbody tr th {\n",
              "        vertical-align: top;\n",
              "    }\n",
              "\n",
              "    .dataframe thead th {\n",
              "        text-align: right;\n",
              "    }\n",
              "</style>\n",
              "<table border=\"1\" class=\"dataframe\">\n",
              "  <thead>\n",
              "    <tr style=\"text-align: right;\">\n",
              "      <th></th>\n",
              "      <th>0</th>\n",
              "      <th>1</th>\n",
              "    </tr>\n",
              "  </thead>\n",
              "  <tbody>\n",
              "    <tr>\n",
              "      <th>11</th>\n",
              "      <td>Reco_Policy_Premium</td>\n",
              "      <td>271</td>\n",
              "    </tr>\n",
              "    <tr>\n",
              "      <th>16</th>\n",
              "      <td>Region_Code_Reco_Policy_Premium_min</td>\n",
              "      <td>219</td>\n",
              "    </tr>\n",
              "    <tr>\n",
              "      <th>38</th>\n",
              "      <td>Region_Code_Upper_Age_mean</td>\n",
              "      <td>193</td>\n",
              "    </tr>\n",
              "    <tr>\n",
              "      <th>1</th>\n",
              "      <td>Region_Code</td>\n",
              "      <td>186</td>\n",
              "    </tr>\n",
              "    <tr>\n",
              "      <th>34</th>\n",
              "      <td>comb_4</td>\n",
              "      <td>183</td>\n",
              "    </tr>\n",
              "    <tr>\n",
              "      <th>...</th>\n",
              "      <td>...</td>\n",
              "      <td>...</td>\n",
              "    </tr>\n",
              "    <tr>\n",
              "      <th>6</th>\n",
              "      <td>Is_Spouse</td>\n",
              "      <td>8</td>\n",
              "    </tr>\n",
              "    <tr>\n",
              "      <th>3</th>\n",
              "      <td>Reco_Insurance_Type</td>\n",
              "      <td>2</td>\n",
              "    </tr>\n",
              "    <tr>\n",
              "      <th>20</th>\n",
              "      <td>comb_1_Reco_Policy_Premium_min_y</td>\n",
              "      <td>0</td>\n",
              "    </tr>\n",
              "    <tr>\n",
              "      <th>21</th>\n",
              "      <td>comb_1_Reco_Policy_Premium_max_y</td>\n",
              "      <td>0</td>\n",
              "    </tr>\n",
              "    <tr>\n",
              "      <th>22</th>\n",
              "      <td>comb_1_Reco_Policy_Premium_mean_y</td>\n",
              "      <td>0</td>\n",
              "    </tr>\n",
              "  </tbody>\n",
              "</table>\n",
              "<p>62 rows × 2 columns</p>\n",
              "</div>"
            ],
            "text/plain": [
              "                                      0    1\n",
              "11                  Reco_Policy_Premium  271\n",
              "16  Region_Code_Reco_Policy_Premium_min  219\n",
              "38           Region_Code_Upper_Age_mean  193\n",
              "1                           Region_Code  186\n",
              "34                               comb_4  183\n",
              "..                                  ...  ...\n",
              "6                             Is_Spouse    8\n",
              "3                   Reco_Insurance_Type    2\n",
              "20     comb_1_Reco_Policy_Premium_min_y    0\n",
              "21     comb_1_Reco_Policy_Premium_max_y    0\n",
              "22    comb_1_Reco_Policy_Premium_mean_y    0\n",
              "\n",
              "[62 rows x 2 columns]"
            ]
          },
          "metadata": {
            "tags": []
          },
          "execution_count": 133
        }
      ]
    },
    {
      "cell_type": "code",
      "metadata": {
        "id": "JBJ9R8y9lgg9"
      },
      "source": [
        "submission = pd.DataFrame(np.mean(final_preds,axis=1),columns=['Response'])\n",
        "submission['ID'] = test_data.ID.values\n",
        "submission  = submission[['ID','Response']]"
      ],
      "execution_count": 134,
      "outputs": []
    },
    {
      "cell_type": "code",
      "metadata": {
        "colab": {
          "base_uri": "https://localhost:8080/"
        },
        "id": "arXIRmjElgqm",
        "outputId": "2f64d700-60e1-40a7-c10e-e5677a3c6f4c"
      },
      "source": [
        "from sklearn.preprocessing import StandardScaler\n",
        "\n",
        "X = train_data.drop(['Response','ID'],axis=1)\n",
        "Y = train_data['Response']\n",
        "\n",
        "folds = StratifiedKFold(n_splits=6,shuffle=True ,random_state=42)\n",
        "\n",
        "final_preds = pd.DataFrame()\n",
        "scores = []\n",
        "best_score = 0\n",
        "\n",
        "for i , (train_idx, test_idx) in enumerate(folds.split(X,Y)):\n",
        "  train_set=(X.iloc[train_idx],Y.iloc[train_idx])\n",
        "  test_set=(X.iloc[test_idx],Y.iloc[test_idx])\n",
        "\n",
        "  model = CatBoostClassifier(eval_metric=\"AUC\",\n",
        "                            learning_rate = 0.08,\n",
        "                            n_estimators=5000,\n",
        "                            # num_leaves=20,\n",
        "                            random_state=7,\n",
        "                            #  subsample=0.95\n",
        "                        #  reg_alpha=0.001,\n",
        "                        #  reg_lambda=0.01\n",
        "                         )\n",
        "  model.fit(*train_set,\n",
        "            eval_set=(test_set),\n",
        "            verbose=500,\n",
        "            early_stopping_rounds=500)\n",
        "    \n",
        "  preds = model.predict_proba(test_set[0])[:,1]\n",
        "  score = roc_auc_score(test_set[1],preds)\n",
        "  print(\"Score:: \",score)\n",
        "  scores.append(score)\n",
        "\n",
        "  if best_score < score:\n",
        "    best_model = model\n",
        "    best_score = score\n",
        "\n",
        "  predictions = model.predict_proba(test_data.drop('ID',axis=1))[:,1]\n",
        "  final_preds[i] = predictions\n",
        "\n",
        "  # break\n",
        "\n",
        "print('Mean Score',np.mean(scores))"
      ],
      "execution_count": 135,
      "outputs": [
        {
          "output_type": "stream",
          "text": [
            "0:\ttest: 0.7303666\tbest: 0.7303666 (0)\ttotal: 90.7ms\tremaining: 7m 33s\n",
            "500:\ttest: 0.7995012\tbest: 0.8000017 (353)\ttotal: 17.4s\tremaining: 2m 36s\n",
            "Stopped by overfitting detector  (500 iterations wait)\n",
            "\n",
            "bestTest = 0.8000016771\n",
            "bestIteration = 353\n",
            "\n",
            "Shrink model to first 354 iterations.\n",
            "Score::  0.800001677134783\n",
            "0:\ttest: 0.7530897\tbest: 0.7530897 (0)\ttotal: 39ms\tremaining: 3m 15s\n",
            "500:\ttest: 0.8115250\tbest: 0.8130276 (363)\ttotal: 17.5s\tremaining: 2m 36s\n",
            "Stopped by overfitting detector  (500 iterations wait)\n",
            "\n",
            "bestTest = 0.8130275637\n",
            "bestIteration = 363\n",
            "\n",
            "Shrink model to first 364 iterations.\n",
            "Score::  0.8130275637101576\n",
            "0:\ttest: 0.7377073\tbest: 0.7377073 (0)\ttotal: 35ms\tremaining: 2m 54s\n",
            "500:\ttest: 0.8110431\tbest: 0.8112894 (331)\ttotal: 17.6s\tremaining: 2m 37s\n",
            "Stopped by overfitting detector  (500 iterations wait)\n",
            "\n",
            "bestTest = 0.8112893714\n",
            "bestIteration = 331\n",
            "\n",
            "Shrink model to first 332 iterations.\n",
            "Score::  0.8112893714089763\n",
            "0:\ttest: 0.7372677\tbest: 0.7372677 (0)\ttotal: 33.5ms\tremaining: 2m 47s\n",
            "500:\ttest: 0.8030625\tbest: 0.8040747 (288)\ttotal: 17.5s\tremaining: 2m 37s\n",
            "Stopped by overfitting detector  (500 iterations wait)\n",
            "\n",
            "bestTest = 0.8040746974\n",
            "bestIteration = 288\n",
            "\n",
            "Shrink model to first 289 iterations.\n",
            "Score::  0.8040746974494065\n",
            "0:\ttest: 0.7392240\tbest: 0.7392240 (0)\ttotal: 34.8ms\tremaining: 2m 53s\n",
            "500:\ttest: 0.8048810\tbest: 0.8051305 (445)\ttotal: 17.4s\tremaining: 2m 36s\n",
            "1000:\ttest: 0.8016399\tbest: 0.8053059 (609)\ttotal: 34.8s\tremaining: 2m 18s\n",
            "Stopped by overfitting detector  (500 iterations wait)\n",
            "\n",
            "bestTest = 0.8053059054\n",
            "bestIteration = 609\n",
            "\n",
            "Shrink model to first 610 iterations.\n",
            "Score::  0.8053059053834849\n",
            "0:\ttest: 0.7381584\tbest: 0.7381584 (0)\ttotal: 45.1ms\tremaining: 3m 45s\n",
            "500:\ttest: 0.8029095\tbest: 0.8045393 (274)\ttotal: 17.5s\tremaining: 2m 37s\n",
            "Stopped by overfitting detector  (500 iterations wait)\n",
            "\n",
            "bestTest = 0.8045392596\n",
            "bestIteration = 274\n",
            "\n",
            "Shrink model to first 275 iterations.\n",
            "Score::  0.8045392596207182\n",
            "Mean Score 0.806373079117921\n"
          ],
          "name": "stdout"
        }
      ]
    },
    {
      "cell_type": "code",
      "metadata": {
        "id": "OLKA22g4lg0L"
      },
      "source": [
        "submission = pd.DataFrame(np.mean(final_preds,axis=1),columns=['Response'])\n",
        "submission['ID'] = test_data.ID.values\n",
        "submission  = submission[['ID','Response']]"
      ],
      "execution_count": 136,
      "outputs": []
    },
    {
      "cell_type": "code",
      "metadata": {
        "id": "1ENxiQ3Klg9s"
      },
      "source": [
        ""
      ],
      "execution_count": null,
      "outputs": []
    },
    {
      "cell_type": "code",
      "metadata": {
        "id": "sFxZWvhQlhHZ"
      },
      "source": [
        ""
      ],
      "execution_count": null,
      "outputs": []
    },
    {
      "cell_type": "code",
      "metadata": {
        "id": "Y5YTbmlqlhSc"
      },
      "source": [
        ""
      ],
      "execution_count": null,
      "outputs": []
    },
    {
      "cell_type": "code",
      "metadata": {
        "id": "F_LRRKcSlhbl"
      },
      "source": [
        ""
      ],
      "execution_count": null,
      "outputs": []
    },
    {
      "cell_type": "code",
      "metadata": {
        "id": "u8SQSjpvlhkv"
      },
      "source": [
        ""
      ],
      "execution_count": null,
      "outputs": []
    },
    {
      "cell_type": "code",
      "metadata": {
        "id": "Wa4-QCgclhuE"
      },
      "source": [
        ""
      ],
      "execution_count": null,
      "outputs": []
    },
    {
      "cell_type": "code",
      "metadata": {
        "id": "OsUpKRYxlh3K"
      },
      "source": [
        ""
      ],
      "execution_count": null,
      "outputs": []
    },
    {
      "cell_type": "code",
      "metadata": {
        "id": "mPY5rRAiliAa"
      },
      "source": [
        ""
      ],
      "execution_count": null,
      "outputs": []
    },
    {
      "cell_type": "code",
      "metadata": {
        "id": "ilhVnBCqliJ1"
      },
      "source": [
        ""
      ],
      "execution_count": null,
      "outputs": []
    },
    {
      "cell_type": "code",
      "metadata": {
        "id": "voRJVboyliTJ"
      },
      "source": [
        ""
      ],
      "execution_count": null,
      "outputs": []
    },
    {
      "cell_type": "code",
      "metadata": {
        "id": "vFJwQYJrlico"
      },
      "source": [
        ""
      ],
      "execution_count": null,
      "outputs": []
    },
    {
      "cell_type": "code",
      "metadata": {
        "id": "aj3ZmMETlil8"
      },
      "source": [
        ""
      ],
      "execution_count": null,
      "outputs": []
    },
    {
      "cell_type": "code",
      "metadata": {
        "id": "uX4mDOrvlivl"
      },
      "source": [
        ""
      ],
      "execution_count": null,
      "outputs": []
    },
    {
      "cell_type": "code",
      "metadata": {
        "id": "Fl6FnQmbli46"
      },
      "source": [
        ""
      ],
      "execution_count": null,
      "outputs": []
    },
    {
      "cell_type": "code",
      "metadata": {
        "id": "Rk99zzhRljCg"
      },
      "source": [
        ""
      ],
      "execution_count": null,
      "outputs": []
    },
    {
      "cell_type": "code",
      "metadata": {
        "id": "vNr0kugDljL2"
      },
      "source": [
        ""
      ],
      "execution_count": null,
      "outputs": []
    },
    {
      "cell_type": "code",
      "metadata": {
        "id": "HS5tzVRxljVt"
      },
      "source": [
        ""
      ],
      "execution_count": null,
      "outputs": []
    },
    {
      "cell_type": "code",
      "metadata": {
        "id": "ZyTDG3xlljfR"
      },
      "source": [
        ""
      ],
      "execution_count": null,
      "outputs": []
    },
    {
      "cell_type": "code",
      "metadata": {
        "id": "IzezCZbMljpP"
      },
      "source": [
        ""
      ],
      "execution_count": null,
      "outputs": []
    },
    {
      "cell_type": "code",
      "metadata": {
        "id": "3tJWxfrjljy1"
      },
      "source": [
        ""
      ],
      "execution_count": null,
      "outputs": []
    },
    {
      "cell_type": "code",
      "metadata": {
        "id": "RrkHi8nGlj8x"
      },
      "source": [
        ""
      ],
      "execution_count": null,
      "outputs": []
    },
    {
      "cell_type": "code",
      "metadata": {
        "id": "Wr7Gp_PhlkGn"
      },
      "source": [
        ""
      ],
      "execution_count": null,
      "outputs": []
    },
    {
      "cell_type": "code",
      "metadata": {
        "id": "1GJ7_tH4lkQn"
      },
      "source": [
        ""
      ],
      "execution_count": null,
      "outputs": []
    },
    {
      "cell_type": "code",
      "metadata": {
        "id": "DtjtLcmjlkad"
      },
      "source": [
        ""
      ],
      "execution_count": null,
      "outputs": []
    },
    {
      "cell_type": "code",
      "metadata": {
        "id": "VtzzUA1Rlkkx"
      },
      "source": [
        ""
      ],
      "execution_count": null,
      "outputs": []
    },
    {
      "cell_type": "code",
      "metadata": {
        "id": "B4xRfaM3lku1"
      },
      "source": [
        ""
      ],
      "execution_count": null,
      "outputs": []
    },
    {
      "cell_type": "code",
      "metadata": {
        "id": "GoJnVDDxlk4-"
      },
      "source": [
        ""
      ],
      "execution_count": null,
      "outputs": []
    },
    {
      "cell_type": "code",
      "metadata": {
        "id": "wxBIg08SllDS"
      },
      "source": [
        ""
      ],
      "execution_count": null,
      "outputs": []
    },
    {
      "cell_type": "code",
      "metadata": {
        "id": "69xUz2ZbllM8"
      },
      "source": [
        ""
      ],
      "execution_count": null,
      "outputs": []
    },
    {
      "cell_type": "code",
      "metadata": {
        "id": "o3rkPiMbllXT"
      },
      "source": [
        ""
      ],
      "execution_count": null,
      "outputs": []
    },
    {
      "cell_type": "code",
      "metadata": {
        "id": "E9UYc8eLllhi"
      },
      "source": [
        ""
      ],
      "execution_count": null,
      "outputs": []
    },
    {
      "cell_type": "code",
      "metadata": {
        "id": "8JZXQvJtllr1"
      },
      "source": [
        ""
      ],
      "execution_count": null,
      "outputs": []
    },
    {
      "cell_type": "code",
      "metadata": {
        "id": "P52275Lall2O"
      },
      "source": [
        ""
      ],
      "execution_count": null,
      "outputs": []
    },
    {
      "cell_type": "code",
      "metadata": {
        "id": "pLt2p3iXlmAk"
      },
      "source": [
        ""
      ],
      "execution_count": null,
      "outputs": []
    },
    {
      "cell_type": "code",
      "metadata": {
        "id": "pCD4lYdflmLa"
      },
      "source": [
        ""
      ],
      "execution_count": null,
      "outputs": []
    },
    {
      "cell_type": "code",
      "metadata": {
        "id": "Kf9UukZqlmX9"
      },
      "source": [
        ""
      ],
      "execution_count": null,
      "outputs": []
    },
    {
      "cell_type": "code",
      "metadata": {
        "id": "0xKscM63lmky"
      },
      "source": [
        ""
      ],
      "execution_count": null,
      "outputs": []
    },
    {
      "cell_type": "code",
      "metadata": {
        "id": "S36-9289lmv9"
      },
      "source": [
        ""
      ],
      "execution_count": null,
      "outputs": []
    },
    {
      "cell_type": "code",
      "metadata": {
        "id": "WmecV13flm6s"
      },
      "source": [
        ""
      ],
      "execution_count": null,
      "outputs": []
    },
    {
      "cell_type": "code",
      "metadata": {
        "id": "JdYuSV9olnFU"
      },
      "source": [
        ""
      ],
      "execution_count": null,
      "outputs": []
    },
    {
      "cell_type": "code",
      "metadata": {
        "id": "o4Fvdqr8lnQR"
      },
      "source": [
        ""
      ],
      "execution_count": null,
      "outputs": []
    },
    {
      "cell_type": "code",
      "metadata": {
        "id": "oB5HGtyNcT0I"
      },
      "source": [
        ""
      ],
      "execution_count": null,
      "outputs": []
    },
    {
      "cell_type": "code",
      "metadata": {
        "id": "fexCqReONNZX"
      },
      "source": [
        "X = df.drop(['Response'] , axis = 1)\n",
        "y = df['Response']"
      ],
      "execution_count": null,
      "outputs": []
    },
    {
      "cell_type": "code",
      "metadata": {
        "colab": {
          "base_uri": "https://localhost:8080/"
        },
        "id": "XRl3iBm7NjdG",
        "outputId": "40b3df58-1296-486f-9888-815ac150114f"
      },
      "source": [
        "X.columns"
      ],
      "execution_count": null,
      "outputs": [
        {
          "output_type": "execute_result",
          "data": {
            "text/plain": [
              "Index(['Region_Code', 'Accomodation_Type', 'Reco_Insurance_Type', 'Upper_Age',\n",
              "       'Lower_Age', 'Is_Spouse', 'Holding_Policy_Duration',\n",
              "       'Holding_Policy_Type', 'Reco_Policy_Cat', 'Reco_Policy_Premium', 'C1',\n",
              "       'C10', 'C11', 'C12', 'C13', 'C14', 'C15', 'C16', 'C17', 'C18', 'C19',\n",
              "       'C2', 'C20', 'C21', 'C22', 'C23', 'C24', 'C25', 'C26', 'C27', 'C28',\n",
              "       'C29', 'C3', 'C30', 'C31', 'C32', 'C33', 'C34', 'C35', 'C36', 'C4',\n",
              "       'C5', 'C6', 'C7', 'C8', 'C9', 'X1', 'X2', 'X3', 'X4', 'X5', 'X6', 'X7',\n",
              "       'X8', 'X9'],\n",
              "      dtype='object')"
            ]
          },
          "metadata": {
            "tags": []
          },
          "execution_count": 326
        }
      ]
    },
    {
      "cell_type": "code",
      "metadata": {
        "id": "tvXWqGJ1NxDm"
      },
      "source": [
        "from sklearn.model_selection import train_test_split\n",
        "X_train, X_test, y_train, y_test = train_test_split(X, y, test_size=0.3, random_state=0)"
      ],
      "execution_count": null,
      "outputs": []
    },
    {
      "cell_type": "code",
      "metadata": {
        "id": "-Jx5if8jN_41"
      },
      "source": [
        "import keras\n",
        "import tensorflow as tf"
      ],
      "execution_count": null,
      "outputs": []
    },
    {
      "cell_type": "code",
      "metadata": {
        "id": "aNvjw6Y3N5mu"
      },
      "source": [
        "model = keras.Sequential([\n",
        "    keras.layers.Flatten(),\n",
        "    keras.layers.Dense(16, activation=tf.nn.relu),\n",
        "\tkeras.layers.Dense(16, activation=tf.nn.relu),\n",
        "    keras.layers.Dense(1, activation=tf.nn.sigmoid),\n",
        "])"
      ],
      "execution_count": null,
      "outputs": []
    },
    {
      "cell_type": "code",
      "metadata": {
        "id": "sGjdSJGVQBOC"
      },
      "source": [
        "opt = keras.optimizers.Adam(learning_rate=0.0001)"
      ],
      "execution_count": null,
      "outputs": []
    },
    {
      "cell_type": "code",
      "metadata": {
        "id": "3JngVEgssRJD"
      },
      "source": [
        "model = keras.Sequential([\n",
        "    keras.layers.Dense(4, activation='relu'),\n",
        "    keras.layers.Dense(4, activation='relu'),    \n",
        "    keras.layers.Dense(1, activation='sigmoid'),\n",
        "])"
      ],
      "execution_count": null,
      "outputs": []
    },
    {
      "cell_type": "code",
      "metadata": {
        "id": "Faw4CFfAN-rC",
        "colab": {
          "base_uri": "https://localhost:8080/",
          "height": 392
        },
        "outputId": "3b020ef2-0c7f-44cb-af40-67f4710c4f7f"
      },
      "source": [
        "model.compile(optimizer= opt,loss='binary_crossentropy',metrics=['accuracy'])\n",
        "\n",
        "model.fit(X_train, y_train, epochs=10, batch_size=1)\n",
        "test_loss, test_acc = model.evaluate(X_test, y_test)"
      ],
      "execution_count": null,
      "outputs": [
        {
          "output_type": "stream",
          "text": [
            "Epoch 1/10\n",
            "15395/35617 [===========>..................] - ETA: 20s - loss: 39.7410 - accuracy: 0.6733"
          ],
          "name": "stdout"
        },
        {
          "output_type": "error",
          "ename": "KeyboardInterrupt",
          "evalue": "ignored",
          "traceback": [
            "\u001b[0;31m---------------------------------------------------------------------------\u001b[0m",
            "\u001b[0;31mKeyboardInterrupt\u001b[0m                         Traceback (most recent call last)",
            "\u001b[0;32m<ipython-input-393-d1913f5521b2>\u001b[0m in \u001b[0;36m<module>\u001b[0;34m()\u001b[0m\n\u001b[1;32m      1\u001b[0m \u001b[0mmodel\u001b[0m\u001b[0;34m.\u001b[0m\u001b[0mcompile\u001b[0m\u001b[0;34m(\u001b[0m\u001b[0moptimizer\u001b[0m\u001b[0;34m=\u001b[0m \u001b[0mopt\u001b[0m\u001b[0;34m,\u001b[0m\u001b[0mloss\u001b[0m\u001b[0;34m=\u001b[0m\u001b[0;34m'binary_crossentropy'\u001b[0m\u001b[0;34m,\u001b[0m\u001b[0mmetrics\u001b[0m\u001b[0;34m=\u001b[0m\u001b[0;34m[\u001b[0m\u001b[0;34m'accuracy'\u001b[0m\u001b[0;34m]\u001b[0m\u001b[0;34m)\u001b[0m\u001b[0;34m\u001b[0m\u001b[0;34m\u001b[0m\u001b[0m\n\u001b[1;32m      2\u001b[0m \u001b[0;34m\u001b[0m\u001b[0m\n\u001b[0;32m----> 3\u001b[0;31m \u001b[0mmodel\u001b[0m\u001b[0;34m.\u001b[0m\u001b[0mfit\u001b[0m\u001b[0;34m(\u001b[0m\u001b[0mX_train\u001b[0m\u001b[0;34m,\u001b[0m \u001b[0my_train\u001b[0m\u001b[0;34m,\u001b[0m \u001b[0mepochs\u001b[0m\u001b[0;34m=\u001b[0m\u001b[0;36m10\u001b[0m\u001b[0;34m,\u001b[0m \u001b[0mbatch_size\u001b[0m\u001b[0;34m=\u001b[0m\u001b[0;36m1\u001b[0m\u001b[0;34m)\u001b[0m\u001b[0;34m\u001b[0m\u001b[0;34m\u001b[0m\u001b[0m\n\u001b[0m\u001b[1;32m      4\u001b[0m \u001b[0mtest_loss\u001b[0m\u001b[0;34m,\u001b[0m \u001b[0mtest_acc\u001b[0m \u001b[0;34m=\u001b[0m \u001b[0mmodel\u001b[0m\u001b[0;34m.\u001b[0m\u001b[0mevaluate\u001b[0m\u001b[0;34m(\u001b[0m\u001b[0mX_test\u001b[0m\u001b[0;34m,\u001b[0m \u001b[0my_test\u001b[0m\u001b[0;34m)\u001b[0m\u001b[0;34m\u001b[0m\u001b[0;34m\u001b[0m\u001b[0m\n",
            "\u001b[0;32m/usr/local/lib/python3.7/dist-packages/tensorflow/python/keras/engine/training.py\u001b[0m in \u001b[0;36mfit\u001b[0;34m(self, x, y, batch_size, epochs, verbose, callbacks, validation_split, validation_data, shuffle, class_weight, sample_weight, initial_epoch, steps_per_epoch, validation_steps, validation_batch_size, validation_freq, max_queue_size, workers, use_multiprocessing)\u001b[0m\n\u001b[1;32m   1098\u001b[0m                 _r=1):\n\u001b[1;32m   1099\u001b[0m               \u001b[0mcallbacks\u001b[0m\u001b[0;34m.\u001b[0m\u001b[0mon_train_batch_begin\u001b[0m\u001b[0;34m(\u001b[0m\u001b[0mstep\u001b[0m\u001b[0;34m)\u001b[0m\u001b[0;34m\u001b[0m\u001b[0;34m\u001b[0m\u001b[0m\n\u001b[0;32m-> 1100\u001b[0;31m               \u001b[0mtmp_logs\u001b[0m \u001b[0;34m=\u001b[0m \u001b[0mself\u001b[0m\u001b[0;34m.\u001b[0m\u001b[0mtrain_function\u001b[0m\u001b[0;34m(\u001b[0m\u001b[0miterator\u001b[0m\u001b[0;34m)\u001b[0m\u001b[0;34m\u001b[0m\u001b[0;34m\u001b[0m\u001b[0m\n\u001b[0m\u001b[1;32m   1101\u001b[0m               \u001b[0;32mif\u001b[0m \u001b[0mdata_handler\u001b[0m\u001b[0;34m.\u001b[0m\u001b[0mshould_sync\u001b[0m\u001b[0;34m:\u001b[0m\u001b[0;34m\u001b[0m\u001b[0;34m\u001b[0m\u001b[0m\n\u001b[1;32m   1102\u001b[0m                 \u001b[0mcontext\u001b[0m\u001b[0;34m.\u001b[0m\u001b[0masync_wait\u001b[0m\u001b[0;34m(\u001b[0m\u001b[0;34m)\u001b[0m\u001b[0;34m\u001b[0m\u001b[0;34m\u001b[0m\u001b[0m\n",
            "\u001b[0;32m/usr/local/lib/python3.7/dist-packages/tensorflow/python/eager/def_function.py\u001b[0m in \u001b[0;36m__call__\u001b[0;34m(self, *args, **kwds)\u001b[0m\n\u001b[1;32m    826\u001b[0m     \u001b[0mtracing_count\u001b[0m \u001b[0;34m=\u001b[0m \u001b[0mself\u001b[0m\u001b[0;34m.\u001b[0m\u001b[0mexperimental_get_tracing_count\u001b[0m\u001b[0;34m(\u001b[0m\u001b[0;34m)\u001b[0m\u001b[0;34m\u001b[0m\u001b[0;34m\u001b[0m\u001b[0m\n\u001b[1;32m    827\u001b[0m     \u001b[0;32mwith\u001b[0m \u001b[0mtrace\u001b[0m\u001b[0;34m.\u001b[0m\u001b[0mTrace\u001b[0m\u001b[0;34m(\u001b[0m\u001b[0mself\u001b[0m\u001b[0;34m.\u001b[0m\u001b[0m_name\u001b[0m\u001b[0;34m)\u001b[0m \u001b[0;32mas\u001b[0m \u001b[0mtm\u001b[0m\u001b[0;34m:\u001b[0m\u001b[0;34m\u001b[0m\u001b[0;34m\u001b[0m\u001b[0m\n\u001b[0;32m--> 828\u001b[0;31m       \u001b[0mresult\u001b[0m \u001b[0;34m=\u001b[0m \u001b[0mself\u001b[0m\u001b[0;34m.\u001b[0m\u001b[0m_call\u001b[0m\u001b[0;34m(\u001b[0m\u001b[0;34m*\u001b[0m\u001b[0margs\u001b[0m\u001b[0;34m,\u001b[0m \u001b[0;34m**\u001b[0m\u001b[0mkwds\u001b[0m\u001b[0;34m)\u001b[0m\u001b[0;34m\u001b[0m\u001b[0;34m\u001b[0m\u001b[0m\n\u001b[0m\u001b[1;32m    829\u001b[0m       \u001b[0mcompiler\u001b[0m \u001b[0;34m=\u001b[0m \u001b[0;34m\"xla\"\u001b[0m \u001b[0;32mif\u001b[0m \u001b[0mself\u001b[0m\u001b[0;34m.\u001b[0m\u001b[0m_experimental_compile\u001b[0m \u001b[0;32melse\u001b[0m \u001b[0;34m\"nonXla\"\u001b[0m\u001b[0;34m\u001b[0m\u001b[0;34m\u001b[0m\u001b[0m\n\u001b[1;32m    830\u001b[0m       \u001b[0mnew_tracing_count\u001b[0m \u001b[0;34m=\u001b[0m \u001b[0mself\u001b[0m\u001b[0;34m.\u001b[0m\u001b[0mexperimental_get_tracing_count\u001b[0m\u001b[0;34m(\u001b[0m\u001b[0;34m)\u001b[0m\u001b[0;34m\u001b[0m\u001b[0;34m\u001b[0m\u001b[0m\n",
            "\u001b[0;32m/usr/local/lib/python3.7/dist-packages/tensorflow/python/eager/def_function.py\u001b[0m in \u001b[0;36m_call\u001b[0;34m(self, *args, **kwds)\u001b[0m\n\u001b[1;32m    853\u001b[0m       \u001b[0;31m# In this case we have created variables on the first call, so we run the\u001b[0m\u001b[0;34m\u001b[0m\u001b[0;34m\u001b[0m\u001b[0;34m\u001b[0m\u001b[0m\n\u001b[1;32m    854\u001b[0m       \u001b[0;31m# defunned version which is guaranteed to never create variables.\u001b[0m\u001b[0;34m\u001b[0m\u001b[0;34m\u001b[0m\u001b[0;34m\u001b[0m\u001b[0m\n\u001b[0;32m--> 855\u001b[0;31m       \u001b[0;32mreturn\u001b[0m \u001b[0mself\u001b[0m\u001b[0;34m.\u001b[0m\u001b[0m_stateless_fn\u001b[0m\u001b[0;34m(\u001b[0m\u001b[0;34m*\u001b[0m\u001b[0margs\u001b[0m\u001b[0;34m,\u001b[0m \u001b[0;34m**\u001b[0m\u001b[0mkwds\u001b[0m\u001b[0;34m)\u001b[0m  \u001b[0;31m# pylint: disable=not-callable\u001b[0m\u001b[0;34m\u001b[0m\u001b[0;34m\u001b[0m\u001b[0m\n\u001b[0m\u001b[1;32m    856\u001b[0m     \u001b[0;32melif\u001b[0m \u001b[0mself\u001b[0m\u001b[0;34m.\u001b[0m\u001b[0m_stateful_fn\u001b[0m \u001b[0;32mis\u001b[0m \u001b[0;32mnot\u001b[0m \u001b[0;32mNone\u001b[0m\u001b[0;34m:\u001b[0m\u001b[0;34m\u001b[0m\u001b[0;34m\u001b[0m\u001b[0m\n\u001b[1;32m    857\u001b[0m       \u001b[0;31m# Release the lock early so that multiple threads can perform the call\u001b[0m\u001b[0;34m\u001b[0m\u001b[0;34m\u001b[0m\u001b[0;34m\u001b[0m\u001b[0m\n",
            "\u001b[0;32m/usr/local/lib/python3.7/dist-packages/tensorflow/python/eager/function.py\u001b[0m in \u001b[0;36m__call__\u001b[0;34m(self, *args, **kwargs)\u001b[0m\n\u001b[1;32m   2941\u001b[0m        filtered_flat_args) = self._maybe_define_function(args, kwargs)\n\u001b[1;32m   2942\u001b[0m     return graph_function._call_flat(\n\u001b[0;32m-> 2943\u001b[0;31m         filtered_flat_args, captured_inputs=graph_function.captured_inputs)  # pylint: disable=protected-access\n\u001b[0m\u001b[1;32m   2944\u001b[0m \u001b[0;34m\u001b[0m\u001b[0m\n\u001b[1;32m   2945\u001b[0m   \u001b[0;34m@\u001b[0m\u001b[0mproperty\u001b[0m\u001b[0;34m\u001b[0m\u001b[0;34m\u001b[0m\u001b[0m\n",
            "\u001b[0;32m/usr/local/lib/python3.7/dist-packages/tensorflow/python/eager/function.py\u001b[0m in \u001b[0;36m_call_flat\u001b[0;34m(self, args, captured_inputs, cancellation_manager)\u001b[0m\n\u001b[1;32m   1917\u001b[0m       \u001b[0;31m# No tape is watching; skip to running the function.\u001b[0m\u001b[0;34m\u001b[0m\u001b[0;34m\u001b[0m\u001b[0;34m\u001b[0m\u001b[0m\n\u001b[1;32m   1918\u001b[0m       return self._build_call_outputs(self._inference_function.call(\n\u001b[0;32m-> 1919\u001b[0;31m           ctx, args, cancellation_manager=cancellation_manager))\n\u001b[0m\u001b[1;32m   1920\u001b[0m     forward_backward = self._select_forward_and_backward_functions(\n\u001b[1;32m   1921\u001b[0m         \u001b[0margs\u001b[0m\u001b[0;34m,\u001b[0m\u001b[0;34m\u001b[0m\u001b[0;34m\u001b[0m\u001b[0m\n",
            "\u001b[0;32m/usr/local/lib/python3.7/dist-packages/tensorflow/python/eager/function.py\u001b[0m in \u001b[0;36mcall\u001b[0;34m(self, ctx, args, cancellation_manager)\u001b[0m\n\u001b[1;32m    558\u001b[0m               \u001b[0minputs\u001b[0m\u001b[0;34m=\u001b[0m\u001b[0margs\u001b[0m\u001b[0;34m,\u001b[0m\u001b[0;34m\u001b[0m\u001b[0;34m\u001b[0m\u001b[0m\n\u001b[1;32m    559\u001b[0m               \u001b[0mattrs\u001b[0m\u001b[0;34m=\u001b[0m\u001b[0mattrs\u001b[0m\u001b[0;34m,\u001b[0m\u001b[0;34m\u001b[0m\u001b[0;34m\u001b[0m\u001b[0m\n\u001b[0;32m--> 560\u001b[0;31m               ctx=ctx)\n\u001b[0m\u001b[1;32m    561\u001b[0m         \u001b[0;32melse\u001b[0m\u001b[0;34m:\u001b[0m\u001b[0;34m\u001b[0m\u001b[0;34m\u001b[0m\u001b[0m\n\u001b[1;32m    562\u001b[0m           outputs = execute.execute_with_cancellation(\n",
            "\u001b[0;32m/usr/local/lib/python3.7/dist-packages/tensorflow/python/eager/execute.py\u001b[0m in \u001b[0;36mquick_execute\u001b[0;34m(op_name, num_outputs, inputs, attrs, ctx, name)\u001b[0m\n\u001b[1;32m     58\u001b[0m     \u001b[0mctx\u001b[0m\u001b[0;34m.\u001b[0m\u001b[0mensure_initialized\u001b[0m\u001b[0;34m(\u001b[0m\u001b[0;34m)\u001b[0m\u001b[0;34m\u001b[0m\u001b[0;34m\u001b[0m\u001b[0m\n\u001b[1;32m     59\u001b[0m     tensors = pywrap_tfe.TFE_Py_Execute(ctx._handle, device_name, op_name,\n\u001b[0;32m---> 60\u001b[0;31m                                         inputs, attrs, num_outputs)\n\u001b[0m\u001b[1;32m     61\u001b[0m   \u001b[0;32mexcept\u001b[0m \u001b[0mcore\u001b[0m\u001b[0;34m.\u001b[0m\u001b[0m_NotOkStatusException\u001b[0m \u001b[0;32mas\u001b[0m \u001b[0me\u001b[0m\u001b[0;34m:\u001b[0m\u001b[0;34m\u001b[0m\u001b[0;34m\u001b[0m\u001b[0m\n\u001b[1;32m     62\u001b[0m     \u001b[0;32mif\u001b[0m \u001b[0mname\u001b[0m \u001b[0;32mis\u001b[0m \u001b[0;32mnot\u001b[0m \u001b[0;32mNone\u001b[0m\u001b[0;34m:\u001b[0m\u001b[0;34m\u001b[0m\u001b[0;34m\u001b[0m\u001b[0m\n",
            "\u001b[0;31mKeyboardInterrupt\u001b[0m: "
          ]
        }
      ]
    },
    {
      "cell_type": "code",
      "metadata": {
        "colab": {
          "base_uri": "https://localhost:8080/"
        },
        "id": "X_wMblNb_pK8",
        "outputId": "1cb23548-cc5a-4377-8b0f-52adc11c0795"
      },
      "source": [
        "model.compile(optimizer= opt,loss='binary_crossentropy',metrics= [tf.keras.metrics.AUC()])\n",
        "\n",
        "model.fit(X_train, y_train, epochs=10, batch_size=1)\n",
        "test_loss, test_acc = model.evaluate(X_test, y_test)"
      ],
      "execution_count": null,
      "outputs": [
        {
          "output_type": "stream",
          "text": [
            "Epoch 1/10\n",
            "35617/35617 [==============================] - 39s 1ms/step - loss: 0.6649 - auc_3: 0.4907\n",
            "Epoch 2/10\n",
            "35617/35617 [==============================] - 38s 1ms/step - loss: 0.6707 - auc_3: 0.4930\n",
            "Epoch 3/10\n",
            "35617/35617 [==============================] - 37s 1ms/step - loss: 0.6560 - auc_3: 0.4974\n",
            "Epoch 4/10\n",
            "35617/35617 [==============================] - 37s 1ms/step - loss: 0.6576 - auc_3: 0.5123\n",
            "Epoch 5/10\n",
            "35617/35617 [==============================] - 37s 1ms/step - loss: 0.6442 - auc_3: 0.5125\n",
            "Epoch 6/10\n",
            "35617/35617 [==============================] - 38s 1ms/step - loss: 0.6392 - auc_3: 0.5227\n",
            "Epoch 7/10\n",
            "35617/35617 [==============================] - 37s 1ms/step - loss: 0.6351 - auc_3: 0.5331\n",
            "Epoch 8/10\n",
            "35617/35617 [==============================] - 37s 1ms/step - loss: 0.6214 - auc_3: 0.5384\n",
            "Epoch 9/10\n",
            "35617/35617 [==============================] - 36s 1ms/step - loss: 0.6245 - auc_3: 0.5321\n",
            "Epoch 10/10\n",
            "35617/35617 [==============================] - 38s 1ms/step - loss: 0.6311 - auc_3: 0.5237\n",
            "478/478 [==============================] - 1s 1ms/step - loss: 0.5894 - auc_3: 0.5388\n"
          ],
          "name": "stdout"
        }
      ]
    },
    {
      "cell_type": "code",
      "metadata": {
        "id": "HPjKejbz_oNC"
      },
      "source": [
        ""
      ],
      "execution_count": null,
      "outputs": []
    },
    {
      "cell_type": "code",
      "metadata": {
        "id": "oOJ6LO-GOJsX"
      },
      "source": [
        "from sklearn.metrics import accuracy_score, roc_auc_score, classification_report, plot_confusion_matrix, plot_roc_curve"
      ],
      "execution_count": null,
      "outputs": []
    },
    {
      "cell_type": "code",
      "metadata": {
        "id": "jXAxa4NoW87g"
      },
      "source": [
        "from sklearn.linear_model import LogisticRegression\n",
        "from sklearn.naive_bayes import GaussianNB\n",
        "from sklearn.neighbors import KNeighborsClassifier\n",
        "from sklearn.metrics import accuracy_score\n",
        "from sklearn.metrics import confusion_matrix"
      ],
      "execution_count": null,
      "outputs": []
    },
    {
      "cell_type": "code",
      "metadata": {
        "colab": {
          "base_uri": "https://localhost:8080/"
        },
        "id": "DGa-X1nTW_aH",
        "outputId": "11c4b2b6-4240-4dde-d732-6dd49eb2a038"
      },
      "source": [
        "model_lr = LogisticRegression(solver = 'liblinear')\n",
        "model_lr.fit(X_train, y_train)"
      ],
      "execution_count": null,
      "outputs": [
        {
          "output_type": "execute_result",
          "data": {
            "text/plain": [
              "LogisticRegression(C=1.0, class_weight=None, dual=False, fit_intercept=True,\n",
              "                   intercept_scaling=1, l1_ratio=None, max_iter=100,\n",
              "                   multi_class='auto', n_jobs=None, penalty='l2',\n",
              "                   random_state=None, solver='liblinear', tol=0.0001, verbose=0,\n",
              "                   warm_start=False)"
            ]
          },
          "metadata": {
            "tags": []
          },
          "execution_count": 337
        }
      ]
    },
    {
      "cell_type": "code",
      "metadata": {
        "id": "mqCrQOSoXBsv"
      },
      "source": [
        "predicted_classes_lr = model_lr.predict(X_test)"
      ],
      "execution_count": null,
      "outputs": []
    },
    {
      "cell_type": "code",
      "metadata": {
        "id": "c19T4XofXFoh"
      },
      "source": [
        "predicted_classes_lr_prob = model_lr.predict_proba(X_test)"
      ],
      "execution_count": null,
      "outputs": []
    },
    {
      "cell_type": "code",
      "metadata": {
        "colab": {
          "base_uri": "https://localhost:8080/"
        },
        "id": "Jq2KAap0XIgU",
        "outputId": "926a3671-41e8-4035-d868-4f0a5743d9f6"
      },
      "source": [
        "accuracy_lr = accuracy_score(y_test, predicted_classes_lr)\n",
        "print(\"accuracy score for LR model::\", accuracy_lr)"
      ],
      "execution_count": null,
      "outputs": [
        {
          "output_type": "stream",
          "text": [
            "accuracy score for LR model:: 0.754208974778906\n"
          ],
          "name": "stdout"
        }
      ]
    },
    {
      "cell_type": "code",
      "metadata": {
        "id": "kU_ZmiMyq5v3"
      },
      "source": [
        "from sklearn.metrics import roc_auc_score"
      ],
      "execution_count": null,
      "outputs": []
    },
    {
      "cell_type": "code",
      "metadata": {
        "colab": {
          "base_uri": "https://localhost:8080/"
        },
        "id": "tJMLnrniq54v",
        "outputId": "86a1bc43-269a-40ca-c7ac-87f0bb38772c"
      },
      "source": [
        "roc_auc_score(y_test,predicted_classes_lr)"
      ],
      "execution_count": null,
      "outputs": [
        {
          "output_type": "execute_result",
          "data": {
            "text/plain": [
              "0.5"
            ]
          },
          "metadata": {
            "tags": []
          },
          "execution_count": 342
        }
      ]
    },
    {
      "cell_type": "code",
      "metadata": {
        "id": "0_n7MjNEXLkK"
      },
      "source": [
        "from sklearn.metrics import roc_auc_score\n",
        "from sklearn.metrics import roc_curve"
      ],
      "execution_count": null,
      "outputs": []
    },
    {
      "cell_type": "code",
      "metadata": {
        "colab": {
          "base_uri": "https://localhost:8080/",
          "height": 295
        },
        "id": "qHEGu8nnXSQA",
        "outputId": "694a64bd-1b81-418a-bb4b-5d304a1f5d78"
      },
      "source": [
        "logit_roc_auc = roc_auc_score(y_test, model_lr.predict(X_test))\n",
        "fpr, tpr, thresholds = roc_curve(y_test, model_lr.predict_proba(X_test)[:,1])\n",
        "plt.figure()\n",
        "plt.plot(fpr, tpr, label='Logistic Regression (area = %0.2f)' % logit_roc_auc)\n",
        "plt.plot([0, 1], [0, 1],'r--')\n",
        "plt.xlim([0.0, 1.0])\n",
        "plt.ylim([0.0, 1.05])\n",
        "plt.xlabel('False Positive Rate')\n",
        "plt.ylabel('True Positive Rate')\n",
        "plt.title('Receiver operating characteristic')\n",
        "plt.legend(loc=\"lower right\")\n",
        "plt.savefig('Log_ROC')\n",
        "plt.show()"
      ],
      "execution_count": null,
      "outputs": [
        {
          "output_type": "display_data",
          "data": {
            "image/png": "[encoded data removed]",
            "text/plain": [
              "<Figure size 432x288 with 1 Axes>"
            ]
          },
          "metadata": {
            "tags": [],
            "needs_background": "light"
          }
        }
      ]
    },
    {
      "cell_type": "code",
      "metadata": {
        "id": "y9lfj5zxXUBC"
      },
      "source": [
        "def find_best_threshold(threshould, fpr, tpr):\n",
        "   t = threshould[np.argmax(tpr*(1-fpr))]\n",
        "   # (tpr*(1-fpr)) will be maximum if your fpr is very low and tpr is very high\n",
        "   print(\"the maximum value of tpr*(1-fpr)\", max(tpr*(1-fpr)), \"for threshold\", np.round(t,3))\n",
        "   return t"
      ],
      "execution_count": null,
      "outputs": []
    },
    {
      "cell_type": "code",
      "metadata": {
        "id": "4cvpy4odXYAB"
      },
      "source": [
        "from math import *"
      ],
      "execution_count": null,
      "outputs": []
    },
    {
      "cell_type": "code",
      "metadata": {
        "colab": {
          "base_uri": "https://localhost:8080/"
        },
        "id": "WBfXSwIfXZ6F",
        "outputId": "b88dbdc1-4a76-44b2-c917-88f4f9177fdd"
      },
      "source": [
        "# calculate roc curves\n",
        "fpr, tpr, thresholds = roc_curve(y_test, model_lr.predict_proba(X_test)[:,1])\n",
        "# get the best threshold\n",
        "J = tpr - fpr\n",
        "ix = np.argmax(J)\n",
        "best_thresh = thresholds[ix]\n",
        "print('Best Threshold=%f' % (best_thresh))"
      ],
      "execution_count": null,
      "outputs": [
        {
          "output_type": "stream",
          "text": [
            "Best Threshold=0.210091\n"
          ],
          "name": "stdout"
        }
      ]
    },
    {
      "cell_type": "code",
      "metadata": {
        "id": "ZLiKbUiqXcPZ"
      },
      "source": [
        "THRESHOLD = 0.215898"
      ],
      "execution_count": null,
      "outputs": []
    },
    {
      "cell_type": "code",
      "metadata": {
        "id": "Rho6DOXzXkZe"
      },
      "source": [
        "from sklearn.metrics import accuracy_score, confusion_matrix, recall_score, roc_auc_score, precision_score\n"
      ],
      "execution_count": null,
      "outputs": []
    },
    {
      "cell_type": "code",
      "metadata": {
        "colab": {
          "base_uri": "https://localhost:8080/",
          "height": 173
        },
        "id": "oxVUGdkgXlpE",
        "outputId": "b33d0f68-5df5-4ba2-c98b-4b2d70293a0c"
      },
      "source": [
        "preds = np.where(model_lr.predict_proba(X_test)[:,1] > THRESHOLD, 1, 0)\n",
        "\n",
        "pd.DataFrame(data=[accuracy_score(y_test, preds), recall_score(y_test, preds),\n",
        "                   precision_score(y_test, preds), roc_auc_score(y_test, preds)], \n",
        "             index=[\"accuracy\", \"recall\", \"precision\", \"roc_auc_score\"])"
      ],
      "execution_count": null,
      "outputs": [
        {
          "output_type": "execute_result",
          "data": {
            "text/html": [
              "<div>\n",
              "<style scoped>\n",
              "    .dataframe tbody tr th:only-of-type {\n",
              "        vertical-align: middle;\n",
              "    }\n",
              "\n",
              "    .dataframe tbody tr th {\n",
              "        vertical-align: top;\n",
              "    }\n",
              "\n",
              "    .dataframe thead th {\n",
              "        text-align: right;\n",
              "    }\n",
              "</style>\n",
              "<table border=\"1\" class=\"dataframe\">\n",
              "  <thead>\n",
              "    <tr style=\"text-align: right;\">\n",
              "      <th></th>\n",
              "      <th>0</th>\n",
              "    </tr>\n",
              "  </thead>\n",
              "  <tbody>\n",
              "    <tr>\n",
              "      <th>accuracy</th>\n",
              "      <td>0.427448</td>\n",
              "    </tr>\n",
              "    <tr>\n",
              "      <th>recall</th>\n",
              "      <td>0.793443</td>\n",
              "    </tr>\n",
              "    <tr>\n",
              "      <th>precision</th>\n",
              "      <td>0.272071</td>\n",
              "    </tr>\n",
              "    <tr>\n",
              "      <th>roc_auc_score</th>\n",
              "      <td>0.550808</td>\n",
              "    </tr>\n",
              "  </tbody>\n",
              "</table>\n",
              "</div>"
            ],
            "text/plain": [
              "                      0\n",
              "accuracy       0.427448\n",
              "recall         0.793443\n",
              "precision      0.272071\n",
              "roc_auc_score  0.550808"
            ]
          },
          "metadata": {
            "tags": []
          },
          "execution_count": 350
        }
      ]
    },
    {
      "cell_type": "code",
      "metadata": {
        "colab": {
          "base_uri": "https://localhost:8080/"
        },
        "id": "iDW4JTipXofR",
        "outputId": "1bf85ab1-d038-4512-eb95-b78bb7e8f72f"
      },
      "source": [
        "model_nb = GaussianNB()\n",
        "model_nb.fit(X_train, y_train)"
      ],
      "execution_count": null,
      "outputs": [
        {
          "output_type": "execute_result",
          "data": {
            "text/plain": [
              "GaussianNB(priors=None, var_smoothing=1e-09)"
            ]
          },
          "metadata": {
            "tags": []
          },
          "execution_count": 351
        }
      ]
    },
    {
      "cell_type": "code",
      "metadata": {
        "id": "edjjnCfkYOwC"
      },
      "source": [
        "predicted_classes_nb = model_nb.predict(X_test)"
      ],
      "execution_count": null,
      "outputs": []
    },
    {
      "cell_type": "code",
      "metadata": {
        "colab": {
          "base_uri": "https://localhost:8080/"
        },
        "id": "3Em9ogaFYUPq",
        "outputId": "61c42129-b7a4-497f-bae2-3d71c64274bb"
      },
      "source": [
        "accuracy_nb = accuracy_score(y_test, predicted_classes_nb)\n",
        "print(\"accuracy score for NB model::\", accuracy_nb)"
      ],
      "execution_count": null,
      "outputs": [
        {
          "output_type": "stream",
          "text": [
            "accuracy score for NB model:: 0.7014739600393056\n"
          ],
          "name": "stdout"
        }
      ]
    },
    {
      "cell_type": "code",
      "metadata": {
        "colab": {
          "base_uri": "https://localhost:8080/"
        },
        "id": "Mu07rptIrvvn",
        "outputId": "8b763863-a769-4379-b142-fd686c64c58a"
      },
      "source": [
        "roc_auc_score(y_test,predicted_classes_nb)"
      ],
      "execution_count": null,
      "outputs": [
        {
          "output_type": "execute_result",
          "data": {
            "text/plain": [
              "0.49333694486829294"
            ]
          },
          "metadata": {
            "tags": []
          },
          "execution_count": 354
        }
      ]
    },
    {
      "cell_type": "code",
      "metadata": {
        "id": "0fPmWIogYUak"
      },
      "source": [
        "model_knn = KNeighborsClassifier(n_neighbors = 2)\n",
        "# fitting model\n",
        "model_knn.fit(X_train,y_train)\n",
        "#predict\n",
        "predicted_classes_knn = model_knn.predict(X_test)"
      ],
      "execution_count": null,
      "outputs": []
    },
    {
      "cell_type": "code",
      "metadata": {
        "colab": {
          "base_uri": "https://localhost:8080/"
        },
        "id": "Hzk0eem9YXKt",
        "outputId": "77c07e17-af89-4b63-9d5e-ee4a2415122c"
      },
      "source": [
        "accuracy_knn = accuracy_score(y_test, predicted_classes_knn)\n",
        "print(\"accuracy score for KNN model::\", accuracy_knn)"
      ],
      "execution_count": null,
      "outputs": [
        {
          "output_type": "stream",
          "text": [
            "accuracy score for KNN model:: 0.7273501473960039\n"
          ],
          "name": "stdout"
        }
      ]
    },
    {
      "cell_type": "code",
      "metadata": {
        "colab": {
          "base_uri": "https://localhost:8080/"
        },
        "id": "CXMW2ZMLr3kr",
        "outputId": "e4b83e54-cfed-45af-dbd9-b2f336e34766"
      },
      "source": [
        "roc_auc_score(y_test,predicted_classes_knn)"
      ],
      "execution_count": null,
      "outputs": [
        {
          "output_type": "execute_result",
          "data": {
            "text/plain": [
              "0.5002504932312541"
            ]
          },
          "metadata": {
            "tags": []
          },
          "execution_count": 357
        }
      ]
    },
    {
      "cell_type": "code",
      "metadata": {
        "id": "3GqgORp6YZVo"
      },
      "source": [
        "from sklearn.model_selection import cross_val_score"
      ],
      "execution_count": null,
      "outputs": []
    },
    {
      "cell_type": "code",
      "metadata": {
        "id": "8WNN0bkgYcMR"
      },
      "source": [
        "neighbors = list(range(1,10,2))\n",
        "# empty list that will hold cv scores\n",
        "cv_scores = [ ]\n",
        "#perform 10-fold cross-validation\n",
        "for K in neighbors:\n",
        "    model_knn = KNeighborsClassifier(n_neighbors = K)\n",
        "    scores = cross_val_score(model_knn,X_train,y_train,cv = 10,scoring =\n",
        "    \"accuracy\")\n",
        "    cv_scores.append(scores.mean())"
      ],
      "execution_count": null,
      "outputs": []
    },
    {
      "cell_type": "code",
      "metadata": {
        "colab": {
          "base_uri": "https://localhost:8080/",
          "height": 392
        },
        "id": "ZQxiOwx1YefP",
        "outputId": "1d5c2710-0ce1-4e23-fbb7-44803bf2acb1"
      },
      "source": [
        "def plot_accuracy(knn_list_scores):\n",
        "    pd.DataFrame({\"K\":[i for i in range(1,10,2)],\n",
        "                  \"Accuracy\":knn_list_scores}).set_index(\"K\").plot.bar(figsize= (9,6),ylim=(0.0,1.00),rot=0)\n",
        "    plt.show()\n",
        "plot_accuracy(cv_scores)"
      ],
      "execution_count": null,
      "outputs": [
        {
          "output_type": "display_data",
          "data": {
            "image/png": "[encoded data removed]",
            "text/plain": [
              "<Figure size 648x432 with 1 Axes>"
            ]
          },
          "metadata": {
            "tags": [],
            "needs_background": "light"
          }
        }
      ]
    },
    {
      "cell_type": "code",
      "metadata": {
        "id": "Jpest7wZYgTA"
      },
      "source": [
        "model_knn = KNeighborsClassifier(n_neighbors = 5)\n",
        "# fitting model\n",
        "model_knn.fit(X_train,y_train)\n",
        "#predict\n",
        "predicted_classes_knn = model_knn.predict(X_test)"
      ],
      "execution_count": null,
      "outputs": []
    },
    {
      "cell_type": "code",
      "metadata": {
        "colab": {
          "base_uri": "https://localhost:8080/"
        },
        "id": "nRR3WAbSYke1",
        "outputId": "fe7194a7-5a63-47f4-f264-5d1f2f68cac6"
      },
      "source": [
        "accuracy_knn = accuracy_score(y_test, predicted_classes_knn)\n",
        "print(\"accuracy score for KNN model::\", accuracy_knn)"
      ],
      "execution_count": null,
      "outputs": [
        {
          "output_type": "stream",
          "text": [
            "accuracy score for KNN model:: 0.7142482803799541\n"
          ],
          "name": "stdout"
        }
      ]
    },
    {
      "cell_type": "code",
      "metadata": {
        "colab": {
          "base_uri": "https://localhost:8080/"
        },
        "id": "FaubpmuVr8a9",
        "outputId": "80fb0a30-faa9-45e5-db94-4209aa6e9dc9"
      },
      "source": [
        "roc_auc_score(y_test,predicted_classes_knn)"
      ],
      "execution_count": null,
      "outputs": [
        {
          "output_type": "execute_result",
          "data": {
            "text/plain": [
              "0.505758288535237"
            ]
          },
          "metadata": {
            "tags": []
          },
          "execution_count": 363
        }
      ]
    },
    {
      "cell_type": "code",
      "metadata": {
        "id": "ButqyqSkYt8M"
      },
      "source": [
        "from sklearn.tree import DecisionTreeClassifier"
      ],
      "execution_count": null,
      "outputs": []
    },
    {
      "cell_type": "code",
      "metadata": {
        "id": "sqor9vHoYw2v"
      },
      "source": [
        "model_dt = DecisionTreeClassifier()\n",
        "model_dt.fit(X_train,y_train)\n",
        "DecisionTreeClassifier()\n",
        "predicted_classes_dt = model_dt.predict(X_test)"
      ],
      "execution_count": null,
      "outputs": []
    },
    {
      "cell_type": "code",
      "metadata": {
        "colab": {
          "base_uri": "https://localhost:8080/"
        },
        "id": "abMQoNuXY1xY",
        "outputId": "c3068600-844c-449d-f0fd-461807a84759"
      },
      "source": [
        "accuracy_dt = accuracy_score(y_test, predicted_classes_dt)\n",
        "print(\"accuracy score  for DT model::\", accuracy_dt)"
      ],
      "execution_count": null,
      "outputs": [
        {
          "output_type": "stream",
          "text": [
            "accuracy score  for DT model:: 0.6725188339338356\n"
          ],
          "name": "stdout"
        }
      ]
    },
    {
      "cell_type": "code",
      "metadata": {
        "colab": {
          "base_uri": "https://localhost:8080/"
        },
        "id": "cGegPGIjr_3M",
        "outputId": "f1d452d8-68b7-4ad0-fb07-57d5c432f572"
      },
      "source": [
        "roc_auc_score(y_test,predicted_classes_dt)"
      ],
      "execution_count": null,
      "outputs": [
        {
          "output_type": "execute_result",
          "data": {
            "text/plain": [
              "0.5551707030172807"
            ]
          },
          "metadata": {
            "tags": []
          },
          "execution_count": 367
        }
      ]
    },
    {
      "cell_type": "code",
      "metadata": {
        "colab": {
          "base_uri": "https://localhost:8080/"
        },
        "id": "1_NobYB7Y5Kb",
        "outputId": "299e90ab-4984-44b5-9e2f-45ff3264a4ca"
      },
      "source": [
        "model_dt1 = DecisionTreeClassifier(criterion = 'entropy')\n",
        "model_dt1.fit(X_train,y_train)\n",
        "predicted_classes_dt1 = model_dt1.predict(X_test)\n",
        "\n",
        "accuracy_dt1 = accuracy_score(y_test, predicted_classes_dt1)\n",
        "print(\"accuracy score  for DT model::\", accuracy_dt1)"
      ],
      "execution_count": null,
      "outputs": [
        {
          "output_type": "stream",
          "text": [
            "accuracy score  for DT model:: 0.672125777923354\n"
          ],
          "name": "stdout"
        }
      ]
    },
    {
      "cell_type": "code",
      "metadata": {
        "colab": {
          "base_uri": "https://localhost:8080/"
        },
        "id": "Wo7tUHtlsEnc",
        "outputId": "25edb0eb-9a8b-4d60-a17e-ec4abc39ff7f"
      },
      "source": [
        "roc_auc_score(y_test,predicted_classes_dt1)"
      ],
      "execution_count": null,
      "outputs": [
        {
          "output_type": "execute_result",
          "data": {
            "text/plain": [
              "0.5531134661531222"
            ]
          },
          "metadata": {
            "tags": []
          },
          "execution_count": 369
        }
      ]
    },
    {
      "cell_type": "code",
      "metadata": {
        "colab": {
          "base_uri": "https://localhost:8080/"
        },
        "id": "CwXxkNLlY9Sd",
        "outputId": "6203d13e-4281-4af5-8286-3121a8c2b1fc"
      },
      "source": [
        "from sklearn.ensemble import RandomForestClassifier\n",
        "model_rf = RandomForestClassifier()\n",
        "model_rf.fit(X_train,y_train)\n",
        "predicted_classes_rf = model_rf.predict(X_test)\n",
        "\n",
        "accuracy_rf = accuracy_score(y_test, predicted_classes_rf)\n",
        "print(\"accuracy score for RF model::\", accuracy_rf)"
      ],
      "execution_count": null,
      "outputs": [
        {
          "output_type": "stream",
          "text": [
            "accuracy score for RF model:: 0.7502784146740911\n"
          ],
          "name": "stdout"
        }
      ]
    },
    {
      "cell_type": "code",
      "metadata": {
        "colab": {
          "base_uri": "https://localhost:8080/"
        },
        "id": "YYMk5ZcAsJRd",
        "outputId": "b4172d02-b6f8-46fb-b63c-57d72a9ef0e2"
      },
      "source": [
        "roc_auc_score(y_test,predicted_classes_rf)"
      ],
      "execution_count": null,
      "outputs": [
        {
          "output_type": "execute_result",
          "data": {
            "text/plain": [
              "0.5070063909399165"
            ]
          },
          "metadata": {
            "tags": []
          },
          "execution_count": 371
        }
      ]
    },
    {
      "cell_type": "code",
      "metadata": {
        "colab": {
          "base_uri": "https://localhost:8080/"
        },
        "id": "6l2xeF1YZBje",
        "outputId": "011b31f6-2f2a-4b16-8b73-84fe6b41c9b2"
      },
      "source": [
        "model_rf = RandomForestClassifier(criterion = 'entropy')\n",
        "model_rf.fit(X_train,y_train)\n",
        "predicted_classes_rf = model_rf.predict(X_test)\n",
        "\n",
        "accuracy_rf = accuracy_score(y_test, predicted_classes_rf)\n",
        "print(\"accuracy score for RF model::\", accuracy_rf)"
      ],
      "execution_count": null,
      "outputs": [
        {
          "output_type": "stream",
          "text": [
            "accuracy score for RF model:: 0.7502784146740911\n"
          ],
          "name": "stdout"
        }
      ]
    },
    {
      "cell_type": "code",
      "metadata": {
        "colab": {
          "base_uri": "https://localhost:8080/"
        },
        "id": "-5i37s_jsM35",
        "outputId": "b200fef1-a4a0-4d17-b756-ec7d5b8b9665"
      },
      "source": [
        "roc_auc_score(y_test,predicted_classes_rf)"
      ],
      "execution_count": null,
      "outputs": [
        {
          "output_type": "execute_result",
          "data": {
            "text/plain": [
              "0.506647058567519"
            ]
          },
          "metadata": {
            "tags": []
          },
          "execution_count": 373
        }
      ]
    },
    {
      "cell_type": "code",
      "metadata": {
        "colab": {
          "base_uri": "https://localhost:8080/"
        },
        "id": "mA2r9_mpZLeS",
        "outputId": "f5e70606-e8e6-418f-dcf1-2f86ae17ddd6"
      },
      "source": [
        "from sklearn.svm import SVC\n",
        "model_svm = SVC()\n",
        "model_svm.fit(X_train,y_train)\n",
        "predicted_classes_svm = model_svm.predict(X_test)\n",
        "\n",
        "accuracy_svm = accuracy_score(y_test, predicted_classes_svm)\n",
        "print(\"accuracy score for SVM model::\", accuracy_svm)"
      ],
      "execution_count": null,
      "outputs": [
        {
          "output_type": "stream",
          "text": [
            "accuracy score for SVM model:: 0.754208974778906\n"
          ],
          "name": "stdout"
        }
      ]
    },
    {
      "cell_type": "code",
      "metadata": {
        "colab": {
          "base_uri": "https://localhost:8080/"
        },
        "id": "3bICM_lOsQSt",
        "outputId": "31d3a3c1-772e-4d6c-a6d3-c430b49a38c5"
      },
      "source": [
        "roc_auc_score(y_test,predicted_classes_svm)"
      ],
      "execution_count": null,
      "outputs": [
        {
          "output_type": "execute_result",
          "data": {
            "text/plain": [
              "0.5"
            ]
          },
          "metadata": {
            "tags": []
          },
          "execution_count": 375
        }
      ]
    },
    {
      "cell_type": "code",
      "metadata": {
        "colab": {
          "base_uri": "https://localhost:8080/"
        },
        "id": "2a0y78jwZVPY",
        "outputId": "1b6a4028-b49e-4130-cebc-a250f271b757"
      },
      "source": [
        "from sklearn.multiclass import OneVsRestClassifier\n",
        "from sklearn.linear_model import SGDClassifier\n",
        "model_sgdc = OneVsRestClassifier(SGDClassifier())\n",
        "model_sgdc.fit(X_train,y_train)\n",
        "predicted_classes_sgdc = model_sgdc.predict(X_test)\n",
        "\n",
        "\n",
        "accuracy_sgdc = accuracy_score(y_test, predicted_classes_sgdc)\n",
        "print(\"accuracy score for SGDC model::\", accuracy_sgdc)"
      ],
      "execution_count": null,
      "outputs": [
        {
          "output_type": "stream",
          "text": [
            "accuracy score for SGDC model:: 0.7325253848673436\n"
          ],
          "name": "stdout"
        }
      ]
    },
    {
      "cell_type": "code",
      "metadata": {
        "colab": {
          "base_uri": "https://localhost:8080/"
        },
        "id": "8W_Dm7tssTZi",
        "outputId": "53a482aa-2143-4bdc-f6be-188a0cdf6134"
      },
      "source": [
        "roc_auc_score(y_test,predicted_classes_sgdc)"
      ],
      "execution_count": null,
      "outputs": [
        {
          "output_type": "execute_result",
          "data": {
            "text/plain": [
              "0.5062865571263929"
            ]
          },
          "metadata": {
            "tags": []
          },
          "execution_count": 377
        }
      ]
    },
    {
      "cell_type": "code",
      "metadata": {
        "colab": {
          "base_uri": "https://localhost:8080/"
        },
        "id": "guHq3N7pZbSr",
        "outputId": "b73876b4-7611-46af-fb7d-6613786e5f07"
      },
      "source": [
        "from sklearn.discriminant_analysis import LinearDiscriminantAnalysis\n",
        "model_lda = LinearDiscriminantAnalysis()\n",
        "model_lda.fit(X_train,y_train)\n",
        "predicted_classes_lda = model_lda.predict(X_test)\n",
        "\n",
        "accuracy_lda = accuracy_score(y_test, predicted_classes_lda)\n",
        "print(\"accuracy score for LDA model::\", accuracy_lda)"
      ],
      "execution_count": null,
      "outputs": [
        {
          "output_type": "stream",
          "text": [
            "accuracy score for LDA model:: 0.754208974778906\n"
          ],
          "name": "stdout"
        }
      ]
    },
    {
      "cell_type": "code",
      "metadata": {
        "colab": {
          "base_uri": "https://localhost:8080/"
        },
        "id": "azBr4yPrsWGi",
        "outputId": "920029b4-7112-424e-f7fc-2a7a7ed62a39"
      },
      "source": [
        "roc_auc_score(y_test,predicted_classes_lda)"
      ],
      "execution_count": null,
      "outputs": [
        {
          "output_type": "execute_result",
          "data": {
            "text/plain": [
              "0.5"
            ]
          },
          "metadata": {
            "tags": []
          },
          "execution_count": 379
        }
      ]
    },
    {
      "cell_type": "code",
      "metadata": {
        "colab": {
          "base_uri": "https://localhost:8080/"
        },
        "id": "RQFGdQMEZe7j",
        "outputId": "00d758ce-0697-4e54-bcbf-62752cae2d0e"
      },
      "source": [
        "predicted_classes_dt_prob = model_dt.predict_proba(test)\n",
        "predicted_classes_dt_prob.shape"
      ],
      "execution_count": null,
      "outputs": [
        {
          "output_type": "execute_result",
          "data": {
            "text/plain": [
              "(21805, 2)"
            ]
          },
          "metadata": {
            "tags": []
          },
          "execution_count": 384
        }
      ]
    },
    {
      "cell_type": "code",
      "metadata": {
        "id": "lIyxGzush1ZX"
      },
      "source": [
        "Pred = pd.DataFrame(predicted_classes_dt_prob) "
      ],
      "execution_count": null,
      "outputs": []
    },
    {
      "cell_type": "code",
      "metadata": {
        "id": "zSTyCHV_a4p0"
      },
      "source": [
        "Pred.to_csv('5.csv')"
      ],
      "execution_count": null,
      "outputs": []
    },
    {
      "cell_type": "code",
      "metadata": {
        "id": "NhrlRz7ShDsB"
      },
      "source": [
        ""
      ],
      "execution_count": null,
      "outputs": []
    }
  ]
}